{
 "cells": [
  {
   "cell_type": "markdown",
   "id": "94141299",
   "metadata": {},
   "source": [
    "# BST Practice"
   ]
  },
  {
   "cell_type": "code",
   "execution_count": 1,
   "id": "50c6672e",
   "metadata": {},
   "outputs": [],
   "source": [
    "class TreeNode() :\n",
    "    def __init__(self, x) :\n",
    "        self.val = x\n",
    "        self.right = None\n",
    "        self.left = None"
   ]
  },
  {
   "cell_type": "code",
   "execution_count": 2,
   "id": "dc68f9ec",
   "metadata": {},
   "outputs": [],
   "source": [
    "tree1 = TreeNode(1)\n",
    "tree2 = TreeNode(2)\n",
    "tree3 = TreeNode(3)\n",
    "tree4 = TreeNode(4)\n",
    "tree5 = TreeNode(5)\n",
    "tree6 = TreeNode(6)\n",
    "tree7 = TreeNode(7)\n",
    "\n",
    "tree4.left = tree2\n",
    "tree4.right = tree6\n",
    "\n",
    "tree2.left = tree1\n",
    "tree2.right = tree3\n",
    "\n",
    "tree6.left = tree5\n",
    "tree6.right = tree7"
   ]
  },
  {
   "cell_type": "code",
   "execution_count": 3,
   "id": "6bb11b6d",
   "metadata": {},
   "outputs": [],
   "source": [
    "class BST() :\n",
    "    def __init__(self, root) :\n",
    "        self.root = root\n",
    "    \n",
    "    # def search(self, cur_node, target) :\n",
    "    #     if cur_node == None :\n",
    "    #         return None\n",
    "            \n",
    "    #     if cur_node.val == target :\n",
    "    #         return cur_node\n",
    "        \n",
    "    #     elif cur_node.val > target :\n",
    "    #         return self.search(cur_node.left, target)\n",
    "        \n",
    "    #     else :\n",
    "    #         return self.search(cur_node.right, target)\n",
    "\n",
    "    def __searchHelper(self, cur_node, target) :\n",
    "        if not cur_node :\n",
    "            return None\n",
    "\n",
    "        if cur_node.val == target :\n",
    "            return cur_node\n",
    "        \n",
    "        elif cur_node.val > target :\n",
    "            return self.__searchHelper(cur_node.left, target)\n",
    "\n",
    "        else :\n",
    "            return self.__searchHelper(cur_node.right, target) \n",
    "        \n",
    "    def search(self, target) :\n",
    "        return self.__searchHelper(self.root, target)\n",
    "        \n",
    "    # def insert(self, cur_node, new) :\n",
    "    #     if cur_node == None :\n",
    "    #         return TreeNode(new)\n",
    "\n",
    "    #     if cur_node.val == new :\n",
    "    #         return 'already exist'\n",
    "\n",
    "    #     elif cur_node.val < new :\n",
    "    #         cur_node.right = self.insert(cur_node.right, new)\n",
    "        \n",
    "    #     else :\n",
    "    #         cur_node.left = self.insert(cur_node.left, new)\n",
    "\n",
    "    def __insertHelper(self, cur_node, new) :\n",
    "        if not cur_node :\n",
    "            return TreeNode(new)\n",
    "\n",
    "        if cur_node.val == new :\n",
    "            print('already exist')\n",
    "            \n",
    "        if cur_node.val > new :\n",
    "            cur_node.left = self.__insertHelper(cur_node.left, new)\n",
    "        \n",
    "        elif cur_node. val < new :\n",
    "            cur_node.right = self.__insertHelper(cur_node.right, new)\n",
    "            \n",
    "        return cur_node\n",
    "    \n",
    "    def insert(self, new) :\n",
    "        self.root = self.__insertHelper(self.root, new)\n",
    "\n",
    "    def findMax(self, cur_node) :\n",
    "        cur = cur_node\n",
    "        while cur.right :\n",
    "            cur = cur.right\n",
    "        \n",
    "        return cur\n",
    "        # if not cur_node.right :\n",
    "        #     return cur_node.val\n",
    "        \n",
    "        # else :\n",
    "        #     return self.findMax(cur_node.right)\n",
    "\n",
    "    # def delete(self, cur_node, target) :\n",
    "    #     if self.search(cur_node, target) == None :\n",
    "    #         return None\n",
    "        \n",
    "    #     if cur_node.val == target :\n",
    "    #         if cur_node.right == None and cur_node.left == None :\n",
    "    #             return None\n",
    "            \n",
    "    #         elif cur_node.right != None and cur_node.left != None :\n",
    "    #             new = self.findMax(cur_node.left)\n",
    "                \n",
    "    #             return new\n",
    "\n",
    "    #         elif cur_node.right != None and cur_node.left == None :\n",
    "    #             return cur_node.right\n",
    "\n",
    "    #         else :\n",
    "    #             return cur_node.left\n",
    "\n",
    "\n",
    "    #     elif cur_node.val < target :\n",
    "    #         cur_node.right = self.delete(cur_node.right, target)\n",
    "        \n",
    "    #     else :\n",
    "    #         cur_node.left = self.delete(cur_node.left, target)\n",
    "\n",
    "    def __deleteHelper(self, cur_node, target) :\n",
    "        if not cur_node :\n",
    "            return None\n",
    "        \n",
    "        if cur_node.val > target :\n",
    "            cur_node.left = self.__deleteHelper(cur_node.left, target)\n",
    "        \n",
    "        elif cur_node.val < target :\n",
    "            cur_node.right = self.__deleteHelper(cur_node.right, target)\n",
    "        \n",
    "        else :\n",
    "            if cur_node.left == None and cur_node.right == None :\n",
    "                return None\n",
    "            \n",
    "            elif cur_node.left != None and cur_node.right == None :\n",
    "                return cur_node.left\n",
    "            \n",
    "            elif cur_node.left == None and cur_node.right != None :\n",
    "                return cur_node.right\n",
    "            \n",
    "            else :\n",
    "                new = self.findMax(cur_node.left)\n",
    "                cur_node.left = self.__deleteHelper(cur_node.left, new.val)\n",
    "                cur_node.val = new.val\n",
    "\n",
    "        return cur_node\n",
    "\n",
    "    def delete(self, target) :\n",
    "        self.root = self.__deleteHelper(self.root, target)\n",
    "        \n"
   ]
  },
  {
   "cell_type": "code",
   "execution_count": 4,
   "id": "4ccf7555",
   "metadata": {},
   "outputs": [],
   "source": [
    "myTree = BST(tree4)"
   ]
  },
  {
   "cell_type": "code",
   "execution_count": 5,
   "id": "af9bcfad",
   "metadata": {},
   "outputs": [
    {
     "name": "stdout",
     "output_type": "stream",
     "text": [
      "<__main__.TreeNode object at 0x10c8f59f0> 6\n"
     ]
    }
   ],
   "source": [
    "node = myTree.search(6)\n",
    "if node == None:\n",
    "    print(node)\n",
    "else:\n",
    "    print(node, node.val)"
   ]
  },
  {
   "cell_type": "code",
   "execution_count": 6,
   "id": "612f55c1",
   "metadata": {},
   "outputs": [
    {
     "name": "stdout",
     "output_type": "stream",
     "text": [
      "<__main__.TreeNode object at 0x10c15bbb0> 8\n"
     ]
    }
   ],
   "source": [
    "myTree.insert(8)\n",
    "\n",
    "node = myTree.search(8)\n",
    "if node == None:\n",
    "    print(node)\n",
    "    \n",
    "else:\n",
    "    print(node, node.val)"
   ]
  },
  {
   "cell_type": "code",
   "execution_count": 7,
   "id": "d030b26a",
   "metadata": {},
   "outputs": [
    {
     "name": "stdout",
     "output_type": "stream",
     "text": [
      "4\n",
      "3\n"
     ]
    }
   ],
   "source": [
    "print(myTree.root.val)\n",
    "myTree.delete(4)\n",
    "print(myTree.root.val)"
   ]
  },
  {
   "cell_type": "code",
   "execution_count": 9,
   "id": "a01cf727",
   "metadata": {},
   "outputs": [
    {
     "name": "stdout",
     "output_type": "stream",
     "text": [
      "None\n"
     ]
    }
   ],
   "source": [
    "node = myTree.search(4)\n",
    "if node == None:\n",
    "    print(node)\n",
    "    \n",
    "else:\n",
    "    print(node, node.val)"
   ]
  },
  {
   "cell_type": "code",
   "execution_count": 11,
   "id": "2f11fe77",
   "metadata": {},
   "outputs": [
    {
     "name": "stdout",
     "output_type": "stream",
     "text": [
      "<__main__.TreeNode object at 0x10c8f77c0> 3\n"
     ]
    }
   ],
   "source": [
    "node = myTree.search(3)\n",
    "if node == None:\n",
    "    print(node)\n",
    "    \n",
    "else:\n",
    "    print(node, node.val)"
   ]
  },
  {
   "cell_type": "markdown",
   "id": "42e0ee0d",
   "metadata": {},
   "source": [
    "# Sum of subtree in BST Practice"
   ]
  },
  {
   "cell_type": "code",
   "execution_count": 12,
   "id": "dc3cb57c",
   "metadata": {},
   "outputs": [],
   "source": [
    "class TreeNode:\n",
    "    def __init__(self, val=0, left=None, right=None):\n",
    "        self.val = val\n",
    "        self.left = left\n",
    "        self.right = right\n",
    "    def printTree(self) -> list:\n",
    "        result = list()\n",
    "        thislevel = [self]\n",
    "        while thislevel:\n",
    "            nextlevel = list()\n",
    "            none_list=1\n",
    "            for n in thislevel:\n",
    "                if n !=None:\n",
    "                    none_list=0\n",
    "                    break\n",
    "            if none_list==1:\n",
    "                return result\n",
    "                        \n",
    "            for n in thislevel:\n",
    "                if n != None: \n",
    "                    result.append(n.val)\n",
    "                    nextlevel.append(n.left)\n",
    "                    nextlevel.append(n.right)\n",
    "                else:\n",
    "                    result.append(None)\n",
    "                    nextlevel.append(None)\n",
    "                    nextlevel.append(None)\n",
    "                    \n",
    "            thislevel = nextlevel\n",
    "        return result"
   ]
  },
  {
   "cell_type": "code",
   "execution_count": 13,
   "id": "dfe12396",
   "metadata": {},
   "outputs": [],
   "source": [
    "from collections import deque\n",
    "\n",
    "def create_linked_bst(arr: list) -> TreeNode:\n",
    "    if len(arr) < 1: return None\n",
    "    n = iter(arr)\n",
    "    tree = TreeNode(next(n))\n",
    "    fringe = deque([tree])\n",
    "    while True:\n",
    "        head = fringe.popleft()\n",
    "        try:\n",
    "            l = next(n)\n",
    "            head.left = TreeNode(l) if l != None else None\n",
    "            fringe.append(head.left)\n",
    "            r = next(n)\n",
    "            head.right = TreeNode(r) if r != None else None\n",
    "            fringe.append(head.right)\n",
    "        except StopIteration:\n",
    "            break\n",
    "    return tree"
   ]
  },
  {
   "cell_type": "code",
   "execution_count": 20,
   "id": "b548c2ee",
   "metadata": {},
   "outputs": [],
   "source": [
    "def P1(root, low, high) :\n",
    "    if not root :\n",
    "        return 0\n",
    "\n",
    "    if root.val > high :\n",
    "        return P1(root.left, low, high)\n",
    "    \n",
    "    elif root.val < low :\n",
    "        return P1(root.right, low, high)\n",
    "    \n",
    "    else :\n",
    "        return root.val + P1(root.left, low, high) + P1(root.right, low, high)"
   ]
  },
  {
   "cell_type": "code",
   "execution_count": 21,
   "id": "728b3179",
   "metadata": {},
   "outputs": [
    {
     "data": {
      "text/plain": [
       "15"
      ]
     },
     "execution_count": 21,
     "metadata": {},
     "output_type": "execute_result"
    }
   ],
   "source": [
    "root = create_linked_bst([10,5,15,3,7, 9, 18])\n",
    "P1(root, 3, 9)"
   ]
  },
  {
   "cell_type": "code",
   "execution_count": 22,
   "id": "c7c9d0b0",
   "metadata": {},
   "outputs": [
    {
     "data": {
      "text/plain": [
       "49"
      ]
     },
     "execution_count": 22,
     "metadata": {},
     "output_type": "execute_result"
    }
   ],
   "source": [
    "root = create_linked_bst([10,5,15,3,7, 9, 18])\n",
    "P1(root, 3, 15)"
   ]
  },
  {
   "cell_type": "code",
   "execution_count": 23,
   "id": "e867adf3",
   "metadata": {},
   "outputs": [
    {
     "data": {
      "text/plain": [
       "23"
      ]
     },
     "execution_count": 23,
     "metadata": {},
     "output_type": "execute_result"
    }
   ],
   "source": [
    "root = create_linked_bst ([10,5,15,3,7,13,18,1,None,6])\n",
    "P1(root, 6, 10)"
   ]
  },
  {
   "cell_type": "markdown",
   "id": "b0db97e6",
   "metadata": {},
   "source": [
    "# BFT Practice"
   ]
  },
  {
   "cell_type": "code",
   "execution_count": 1,
   "id": "908fcddc",
   "metadata": {},
   "outputs": [],
   "source": [
    "class TreeNode() :\n",
    "    def __init__(self, x) :\n",
    "        self.val = int(x)\n",
    "        self.right = None\n",
    "        self.left = None"
   ]
  },
  {
   "cell_type": "code",
   "execution_count": 2,
   "id": "4599bf25",
   "metadata": {},
   "outputs": [],
   "source": [
    "tree1 = TreeNode(1)\n",
    "tree2 = TreeNode(2)\n",
    "tree3 = TreeNode(3)\n",
    "tree4 = TreeNode(4)\n",
    "tree5 = TreeNode(5)\n",
    "tree6 = TreeNode(6)\n",
    "tree7 = TreeNode(7)\n",
    "\n",
    "tree4.left = tree2\n",
    "tree4.right = tree6\n",
    "\n",
    "tree2.left = tree1\n",
    "tree2.right = tree3\n",
    "\n",
    "tree6.left = tree5\n",
    "tree6.right = tree7"
   ]
  },
  {
   "cell_type": "code",
   "execution_count": 7,
   "id": "73448304",
   "metadata": {},
   "outputs": [],
   "source": [
    "class BFT() :\n",
    "    def __init__(self, root_node) :\n",
    "        self.root = root_node\n",
    "    \n",
    "    def BFT_play(self) :\n",
    "        d = [self.root]\n",
    "        while d :\n",
    "            if d[0] != None :\n",
    "                print(d[0].val, end = ' ')\n",
    "                d.append(d[0].left)\n",
    "                d.append(d[0].right)\n",
    "                d.pop(0)\n",
    "            else :\n",
    "                d.pop(0)\n",
    "\n",
    "        \n",
    "\n"
   ]
  },
  {
   "cell_type": "code",
   "execution_count": 8,
   "id": "0b40b910",
   "metadata": {},
   "outputs": [
    {
     "name": "stdout",
     "output_type": "stream",
     "text": [
      "4 2 6 1 3 5 7 "
     ]
    }
   ],
   "source": [
    "mytree = BFT(tree4)\n",
    "mytree.BFT_play()"
   ]
  },
  {
   "cell_type": "code",
   "execution_count": 27,
   "id": "b0c2096e",
   "metadata": {},
   "outputs": [],
   "source": [
    "class DFT() :\n",
    "    def __init__(self, root_node) :\n",
    "        self.root = root_node\n",
    "    \n",
    "    def __DFT_Pre_Helper(self, cur_node) :\n",
    "        if not cur_node :\n",
    "            return\n",
    "        \n",
    "        else :\n",
    "            print(cur_node.val, end = ' ')\n",
    "            self.__DFT_Pre_Helper(cur_node.left)\n",
    "            self.__DFT_Pre_Helper(cur_node.right)\n",
    "\n",
    "    def DFT_Pre(self) :\n",
    "        self.__DFT_Pre_Helper(self.root)\n",
    "        \n",
    "    def __DFT_In_Helper(self, cur_node) :\n",
    "        if not cur_node :\n",
    "            return\n",
    "\n",
    "        else :\n",
    "            self.__DFT_In_Helper(cur_node.left)\n",
    "            print(cur_node.val, end = ' ')\n",
    "            self.__DFT_In_Helper(cur_node.right)\n",
    "\n",
    "    def DFT_In(self) :\n",
    "        self.__DFT_In_Helper(self.root)\n",
    "\n",
    "\n",
    "    def __DFT_Post_Helper(self, cur_node) :\n",
    "        if not cur_node :\n",
    "            return \n",
    "\n",
    "        else :\n",
    "            self.__DFT_Post_Helper(cur_node.left)\n",
    "            self.__DFT_Post_Helper(cur_node.right)\n",
    "            print(cur_node.val, end = ' ')\n",
    "\n",
    "    def DFT_Post(self) :\n",
    "        self.__DFT_Post_Helper(self.root)\n"
   ]
  },
  {
   "cell_type": "code",
   "execution_count": 28,
   "id": "96755fe6",
   "metadata": {},
   "outputs": [
    {
     "name": "stdout",
     "output_type": "stream",
     "text": [
      "4 2 1 3 6 5 7 "
     ]
    }
   ],
   "source": [
    "myTree2 = DFT(tree4)\n",
    "myTree2.DFT_Pre()"
   ]
  },
  {
   "cell_type": "code",
   "execution_count": 29,
   "id": "dabd817a",
   "metadata": {},
   "outputs": [
    {
     "name": "stdout",
     "output_type": "stream",
     "text": [
      "1 2 3 4 5 6 7 "
     ]
    }
   ],
   "source": [
    "myTree2.DFT_In()"
   ]
  },
  {
   "cell_type": "code",
   "execution_count": 31,
   "id": "88a5d41f",
   "metadata": {},
   "outputs": [
    {
     "name": "stdout",
     "output_type": "stream",
     "text": [
      "1 3 2 5 7 6 4 "
     ]
    }
   ],
   "source": [
    "myTree2.DFT_Post()"
   ]
  },
  {
   "cell_type": "markdown",
   "id": "bd4411a1",
   "metadata": {},
   "source": [
    "# DFT Fold Practice"
   ]
  },
  {
   "cell_type": "code",
   "execution_count": 38,
   "id": "d352f409",
   "metadata": {},
   "outputs": [],
   "source": [
    "class TreeNode():\n",
    "    def __init__(self, s: str, k: int):\n",
    "        self.name = s\n",
    "        self.ary = k\n",
    "        self.child = [None]*k"
   ]
  },
  {
   "cell_type": "code",
   "execution_count": 39,
   "id": "a7449b13",
   "metadata": {},
   "outputs": [],
   "source": [
    "t_root = TreeNode(\"/\", 10)\n",
    "t_root.child[0] = TreeNode(\"conda\",10)\n",
    "t_root.child[1] = TreeNode(\"idlerc\",10)\n",
    "t_root.child[2] = TreeNode(\"ipynb_checkpoints\",10)\n",
    "t_root.child[3] = TreeNode(\"ipython\",10)\n",
    "t_root.child[4] = TreeNode(\"jupyter\",10)\n",
    "t_root.child[5] = TreeNode(\"VirtualBox\",10)\n",
    "t_root.child[6] = TreeNode(\"3D Objects\",10)\n",
    "t_root.child[7] = TreeNode(\"anaconda3\",10)\n",
    "\n",
    "t_ipython = t_root.child[3]\n",
    "t_ipython.child[0] = TreeNode(\"extensions\",10)\n",
    "t_ipython.child[1] = TreeNode(\"nbextensions\",10)\n",
    "t_ipython.child[2] = TreeNode(\"profile_default\",10)\n",
    "t_default = t_ipython.child[2]\n",
    "t_default.child[0] = TreeNode(\"db\",10)\n",
    "t_default.child[1] = TreeNode(\"log\",10)\n",
    "t_default.child[2] = TreeNode(\"pid\",10)\n",
    "t_default.child[3] = TreeNode(\"security\",10)\n",
    "t_default.child[4] = TreeNode(\"startup\",10)\n",
    "\n",
    "t_jupyter = t_root.child[4]\n",
    "t_jupyter.child[0] = TreeNode(\"lab\",10)\n",
    "t_jupyter.child[1] = TreeNode(\"nbconfig\",10)\n",
    "t_jupyter.child[0].child[0] = TreeNode(\"workspace\",10)\n",
    "\n",
    "t_ana = t_root.child[7]\n",
    "t_ana.child[0] = TreeNode(\"bin\",10)\n",
    "t_ana.child[1] = TreeNode(\"conda-meta\",10)\n",
    "t_ana.child[2] = TreeNode(\"condabin\",10)\n",
    "t_ana.child[3] = TreeNode(\"DLLs\",10)\n",
    "t_ana.child[4] = TreeNode(\"etc\",10)\n",
    "t_etc = t_ana.child[4]\n",
    "t_etc.child[0] = TreeNode(\"fish\",10)\n",
    "t_etc.child[0].child[0] = TreeNode(\"conf.d\",10)\n",
    "t_etc.child[1] = TreeNode(\"jupyter\",10)\n",
    "t_etc.child[1].child[0] = TreeNode(\"jupyter_notebook_config.d\",10)\n",
    "t_etc.child[1].child[1] = TreeNode(\"nbconfig\",10)\n",
    "t_etc.child[1].child[1].child[0] = TreeNode(\"notebook.d\",10)\n",
    "t_etc.child[2] = TreeNode(\"profile.d\",10)"
   ]
  },
  {
   "cell_type": "code",
   "execution_count": 46,
   "id": "572a8b1b",
   "metadata": {},
   "outputs": [],
   "source": [
    "class Fold() :\n",
    "    def __init__(self, root_node) :\n",
    "        self.root = root_node\n",
    "    \n",
    "    def __DFT_Pre_Helper(self, cur_node, depth) :\n",
    "        if cur_node :\n",
    "            print(depth * '--', cur_node.name)\n",
    "            for child in cur_node.child :\n",
    "                self.__DFT_Pre_Helper(child, depth + 1)\n",
    "        \n",
    "\n",
    "    def DFT_Pre(self) :\n",
    "        self.__DFT_Pre_Helper(self.root, 0)"
   ]
  },
  {
   "cell_type": "code",
   "execution_count": 47,
   "id": "1628323f",
   "metadata": {},
   "outputs": [
    {
     "name": "stdout",
     "output_type": "stream",
     "text": [
      " /\n",
      "-- conda\n",
      "-- idlerc\n",
      "-- ipynb_checkpoints\n",
      "-- ipython\n",
      "---- extensions\n",
      "---- nbextensions\n",
      "---- profile_default\n",
      "------ db\n",
      "------ log\n",
      "------ pid\n",
      "------ security\n",
      "------ startup\n",
      "-- jupyter\n",
      "---- lab\n",
      "------ workspace\n",
      "---- nbconfig\n",
      "-- VirtualBox\n",
      "-- 3D Objects\n",
      "-- anaconda3\n",
      "---- bin\n",
      "---- conda-meta\n",
      "---- condabin\n",
      "---- DLLs\n",
      "---- etc\n",
      "------ fish\n",
      "-------- conf.d\n",
      "------ jupyter\n",
      "-------- jupyter_notebook_config.d\n",
      "-------- nbconfig\n",
      "---------- notebook.d\n",
      "------ profile.d\n"
     ]
    }
   ],
   "source": [
    "myTree3 = Fold(t_root)\n",
    "myTree3.DFT_Pre()"
   ]
  },
  {
   "cell_type": "markdown",
   "id": "ba55829c",
   "metadata": {},
   "source": [
    "# Search Algorithm Practice"
   ]
  },
  {
   "cell_type": "code",
   "execution_count": 48,
   "id": "63bbf417",
   "metadata": {},
   "outputs": [],
   "source": [
    "def LinearSearch(L, target) :\n",
    "    for i in range(len(L)) :\n",
    "        if L[i] == target :\n",
    "            return i\n",
    "        \n",
    "    return -1\n",
    "    "
   ]
  },
  {
   "cell_type": "code",
   "execution_count": 51,
   "id": "bb2713dd",
   "metadata": {},
   "outputs": [
    {
     "name": "stdout",
     "output_type": "stream",
     "text": [
      "3\n",
      "-1\n"
     ]
    }
   ],
   "source": [
    "t = [1,5,2,4,6,8,3,9,7,0]\n",
    "print(LinearSearch(t, 4))\n",
    "print(LinearSearch(t, 11))"
   ]
  },
  {
   "cell_type": "code",
   "execution_count": 70,
   "id": "4fb5d96d",
   "metadata": {},
   "outputs": [],
   "source": [
    "def BinarySearch(L, target) : # When L(list) is sorted !\n",
    "    start, end = 0, len(L)-1\n",
    "    \n",
    "    while start <= end :\n",
    "        mid = (start + end) // 2\n",
    "        if L[mid] == target :\n",
    "            return mid\n",
    "        elif L[mid] < target :\n",
    "            start = mid + 1\n",
    "        else :\n",
    "            end = mid - 1\n",
    "        \n",
    "    return -1\n",
    "    \n",
    "\n",
    "\n",
    "\n",
    "    \n"
   ]
  },
  {
   "cell_type": "code",
   "execution_count": 73,
   "id": "aa28b24d",
   "metadata": {},
   "outputs": [
    {
     "name": "stdout",
     "output_type": "stream",
     "text": [
      "-1\n",
      "3\n"
     ]
    }
   ],
   "source": [
    "t = [0,1,2,3,4,5,6,7,8,9]\n",
    "print(BinarySearch(t, 100))\n",
    "print(BinarySearch(t, 3))"
   ]
  },
  {
   "cell_type": "markdown",
   "id": "bb854fbe",
   "metadata": {},
   "source": [
    "# Sorting Algorithm Practice"
   ]
  },
  {
   "cell_type": "code",
   "execution_count": 78,
   "id": "af1e3f29",
   "metadata": {},
   "outputs": [],
   "source": [
    "def Selection_Sort(L) :\n",
    "    for i in range(len(L)) :\n",
    "        min_idx = i\n",
    "        for j in range(i + 1, len(L)) :\n",
    "            if L[min_idx] > L[j] :\n",
    "                min_idx = j\n",
    "        \n",
    "        L[i], L[min_idx] = L[min_idx], L[i]\n",
    "    return L"
   ]
  },
  {
   "cell_type": "code",
   "execution_count": 79,
   "id": "fe585bd0",
   "metadata": {},
   "outputs": [
    {
     "data": {
      "text/plain": [
       "[0, 1, 2, 3, 4, 5, 6, 7, 8, 9]"
      ]
     },
     "execution_count": 79,
     "metadata": {},
     "output_type": "execute_result"
    }
   ],
   "source": [
    "t = [5,2,1,6,3,0,9,7,8,4]\n",
    "Selection_Sort(t)"
   ]
  },
  {
   "cell_type": "code",
   "execution_count": 82,
   "id": "f295704e",
   "metadata": {},
   "outputs": [],
   "source": [
    "def Insertion_Sort(L) :\n",
    "    for i in range(1, len(L)) :\n",
    "        while i >= 1 and L[i] < L[i-1] :\n",
    "            L[i], L[i-1] = L[i-1], L[i]\n",
    "            i -= 1\n",
    "    return L\n",
    "\n"
   ]
  },
  {
   "cell_type": "code",
   "execution_count": 83,
   "id": "2492295a",
   "metadata": {},
   "outputs": [
    {
     "data": {
      "text/plain": [
       "[0, 1, 2, 3, 4, 5, 6, 7, 8, 9]"
      ]
     },
     "execution_count": 83,
     "metadata": {},
     "output_type": "execute_result"
    }
   ],
   "source": [
    "t = [5,2,1,6,3,0,9,7,8,4]\n",
    "Insertion_Sort(t)"
   ]
  },
  {
   "cell_type": "code",
   "execution_count": 88,
   "id": "c7b8aad8",
   "metadata": {},
   "outputs": [],
   "source": [
    "def Merge_Sort(L) :\n",
    "    if len(L) != 1 :\n",
    "        mid = (len(L)+1) // 2\n",
    "        left = L[:mid]\n",
    "        right = L[mid:]\n",
    "        Merge_Sort(left)\n",
    "        Merge_Sort(right)\n",
    "\n",
    "        l, r, n = 0, 0, 0\n",
    "        \n",
    "        while r < len(right) and l < len(left) :\n",
    "            if left[l] >= right[r] :\n",
    "                L[n] = right[r]\n",
    "                r += 1\n",
    "\n",
    "            else :\n",
    "                L[n] = left[l]\n",
    "                l += 1\n",
    "            \n",
    "            n += 1\n",
    "        \n",
    "        while l < len(left) :\n",
    "            L[n] = left[l]\n",
    "            n += 1\n",
    "            l += 1\n",
    "        \n",
    "        while r < len(right) :\n",
    "            L[n] = right[r]\n",
    "            n += 1\n",
    "            r += 1\n",
    "        \n",
    "        return L"
   ]
  },
  {
   "cell_type": "code",
   "execution_count": 89,
   "id": "1ae4ad5b",
   "metadata": {},
   "outputs": [
    {
     "data": {
      "text/plain": [
       "[0, 1, 2, 3, 4, 5, 6, 7, 8, 9]"
      ]
     },
     "execution_count": 89,
     "metadata": {},
     "output_type": "execute_result"
    }
   ],
   "source": [
    "t = [5,2,1,6,3,0,9,7,8,4]\n",
    "Merge_Sort(t)"
   ]
  },
  {
   "cell_type": "markdown",
   "id": "d85dcafd",
   "metadata": {},
   "source": [
    "# Graph Practice"
   ]
  },
  {
   "cell_type": "code",
   "execution_count": null,
   "id": "d989f0ae",
   "metadata": {},
   "outputs": [],
   "source": []
  }
 ],
 "metadata": {
  "kernelspec": {
   "display_name": "Python 3 (ipykernel)",
   "language": "python",
   "name": "python3"
  },
  "language_info": {
   "codemirror_mode": {
    "name": "ipython",
    "version": 3
   },
   "file_extension": ".py",
   "mimetype": "text/x-python",
   "name": "python",
   "nbconvert_exporter": "python",
   "pygments_lexer": "ipython3",
   "version": "3.10.1"
  },
  "vscode": {
   "interpreter": {
    "hash": "aee8b7b246df8f9039afb4144a1f6fd8d2ca17a180786b69acc140d282b71a49"
   }
  }
 },
 "nbformat": 4,
 "nbformat_minor": 5
}
