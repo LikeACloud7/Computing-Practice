{
 "cells": [
  {
   "cell_type": "markdown",
   "id": "94141299",
   "metadata": {},
   "source": [
    "# BST Practice"
   ]
  },
  {
   "cell_type": "code",
   "execution_count": 1,
   "id": "50c6672e",
   "metadata": {},
   "outputs": [],
   "source": [
    "class TreeNode() :\n",
    "    def __init__(self, x) :\n",
    "        self.val = int(x)\n",
    "        self.right = None\n",
    "        self.left = None"
   ]
  },
  {
   "cell_type": "code",
   "execution_count": 2,
   "id": "dc68f9ec",
   "metadata": {},
   "outputs": [],
   "source": [
    "tree1 = TreeNode(1)\n",
    "tree2 = TreeNode(2)\n",
    "tree3 = TreeNode(3)\n",
    "tree4 = TreeNode(4)\n",
    "tree5 = TreeNode(5)\n",
    "tree6 = TreeNode(6)\n",
    "tree7 = TreeNode(7)\n",
    "\n",
    "tree4.left = tree2\n",
    "tree4.right = tree6\n",
    "\n",
    "tree2.left = tree1\n",
    "tree2.right = tree3\n",
    "\n",
    "tree6.left = tree5\n",
    "tree6.right = tree7"
   ]
  },
  {
   "cell_type": "code",
   "execution_count": 3,
   "id": "6bb11b6d",
   "metadata": {},
   "outputs": [],
   "source": [
    "class BST() :\n",
    "    def __init__(self, root) :\n",
    "        self.root = root\n",
    "    \n",
    "    def search(self, cur_node, target) :\n",
    "        if cur_node == None :\n",
    "            return None\n",
    "            \n",
    "        if cur_node.val == target :\n",
    "            return cur_node\n",
    "        \n",
    "        elif cur_node.val > target :\n",
    "            return self.search(cur_node.left, target)\n",
    "        \n",
    "        else :\n",
    "            return self.search(cur_node.right, target)\n",
    "        \n",
    "    def insert(self, cur_node, new) :\n",
    "        if cur_node == None :\n",
    "            return TreeNode(new)\n",
    "\n",
    "        if cur_node.val == new :\n",
    "            return 'already exist'\n",
    "\n",
    "        elif cur_node.val < new :\n",
    "            cur_node.right = self.insert(cur_node.right, new)\n",
    "        \n",
    "        else :\n",
    "            cur_node.left = self.insert(cur_node.left, new)\n",
    "        \n",
    "    def findMax(self, root) :\n",
    "        cur = root\n",
    "        while cur.right :\n",
    "            cur = cur.right\n",
    "        \n",
    "        return cur.right\n",
    "\n",
    "    # def delete(self, cur_node, target) :\n",
    "    #     if self.search(cur_node, target) == None :\n",
    "    #         return None\n",
    "        \n",
    "    #     if cur_node.val == target :\n",
    "    #         if cur_node.right == None and cur_node.left == None :\n",
    "    #             return None\n",
    "            \n",
    "    #         elif cur_node.right != None and cur_node.left != None :\n",
    "    #             new = self.findMax(cur_node.left)\n",
    "                \n",
    "    #             return new\n",
    "\n",
    "    #         elif cur_node.right != None and cur_node.left == None :\n",
    "    #             return cur_node.right\n",
    "\n",
    "    #         else :\n",
    "    #             return cur_node.left\n",
    "\n",
    "\n",
    "    #     elif cur_node.val < target :\n",
    "    #         cur_node.right = self.delete(cur_node.right, target)\n",
    "        \n",
    "    #     else :\n",
    "    #         cur_node.left = self.delete(cur_node.left, target)\n",
    "        \n"
   ]
  },
  {
   "cell_type": "code",
   "execution_count": 4,
   "id": "4ccf7555",
   "metadata": {},
   "outputs": [],
   "source": [
    "myTree = BST(tree4)"
   ]
  },
  {
   "cell_type": "code",
   "execution_count": 5,
   "id": "af9bcfad",
   "metadata": {},
   "outputs": [
    {
     "name": "stdout",
     "output_type": "stream",
     "text": [
      "<__main__.TreeNode object at 0x104c39900> 6\n"
     ]
    }
   ],
   "source": [
    "node = myTree.search(myTree.root, 6)\n",
    "if node == None:\n",
    "    print(node)\n",
    "else:\n",
    "    print(node, node.val)"
   ]
  },
  {
   "cell_type": "code",
   "execution_count": 8,
   "id": "612f55c1",
   "metadata": {},
   "outputs": [
    {
     "name": "stdout",
     "output_type": "stream",
     "text": [
      "<__main__.TreeNode object at 0x1045a4e20> 8\n"
     ]
    }
   ],
   "source": [
    "myTree.insert(myTree.root, 8)\n",
    "\n",
    "node = myTree.search(myTree.root, 8)\n",
    "if node == None:\n",
    "    print(node)\n",
    "    \n",
    "else:\n",
    "    print(node, node.val)"
   ]
  },
  {
   "cell_type": "code",
   "execution_count": 7,
   "id": "d030b26a",
   "metadata": {},
   "outputs": [
    {
     "name": "stdout",
     "output_type": "stream",
     "text": [
      "root: 4\n",
      "new root: 4\n"
     ]
    }
   ],
   "source": [
    "print(\"root:\", myTree.root.val)\n",
    "myTree.root = myTree.delete(myTree.root, 4)\n",
    "print(\"new root:\", myTree.root.val)\n",
    "#ERROR"
   ]
  },
  {
   "cell_type": "markdown",
   "id": "b0db97e6",
   "metadata": {},
   "source": [
    "# BFT Practice"
   ]
  },
  {
   "cell_type": "code",
   "execution_count": 9,
   "id": "908fcddc",
   "metadata": {},
   "outputs": [],
   "source": [
    "class TreeNode() :\n",
    "    def __init__(self, x) :\n",
    "        self.val = int(x)\n",
    "        self.right = None\n",
    "        self.left = None"
   ]
  },
  {
   "cell_type": "code",
   "execution_count": 24,
   "id": "4599bf25",
   "metadata": {},
   "outputs": [],
   "source": [
    "tree1 = TreeNode(1)\n",
    "tree2 = TreeNode(2)\n",
    "tree3 = TreeNode(3)\n",
    "tree4 = TreeNode(4)\n",
    "tree5 = TreeNode(5)\n",
    "tree6 = TreeNode(6)\n",
    "tree7 = TreeNode(7)\n",
    "\n",
    "tree4.left = tree2\n",
    "tree4.right = tree6\n",
    "\n",
    "tree2.left = tree1\n",
    "tree2.right = tree3\n",
    "\n",
    "tree6.left = tree5\n",
    "tree6.right = tree7"
   ]
  },
  {
   "cell_type": "code",
   "execution_count": 29,
   "id": "73448304",
   "metadata": {},
   "outputs": [],
   "source": [
    "class BFT() :\n",
    "    def __init__(self, root_node) :\n",
    "        self.root = root_node\n",
    "    \n",
    "    def BFT_trav(self) :\n",
    "        d = [self.root]\n",
    "        while d :\n",
    "            for i in d :\n",
    "                if i != None :\n",
    "                    print(i.val)\n",
    "                    d.append(i.left)\n",
    "                    d.append(i.right)\n",
    "\n",
    "                    d.pop(0)\n",
    "\n",
    "        \n",
    "        \n"
   ]
  },
  {
   "cell_type": "code",
   "execution_count": null,
   "id": "0b40b910",
   "metadata": {},
   "outputs": [],
   "source": []
  }
 ],
 "metadata": {
  "kernelspec": {
   "display_name": "Python 3.10.1 64-bit",
   "language": "python",
   "name": "python3"
  },
  "language_info": {
   "codemirror_mode": {
    "name": "ipython",
    "version": 3
   },
   "file_extension": ".py",
   "mimetype": "text/x-python",
   "name": "python",
   "nbconvert_exporter": "python",
   "pygments_lexer": "ipython3",
   "version": "3.10.1"
  },
  "vscode": {
   "interpreter": {
    "hash": "aee8b7b246df8f9039afb4144a1f6fd8d2ca17a180786b69acc140d282b71a49"
   }
  }
 },
 "nbformat": 4,
 "nbformat_minor": 5
}
