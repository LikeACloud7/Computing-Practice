{
 "cells": [
  {
   "cell_type": "markdown",
   "id": "94141299",
   "metadata": {},
   "source": [
    "# BST Practice"
   ]
  },
  {
   "cell_type": "code",
   "execution_count": 1,
   "id": "50c6672e",
   "metadata": {},
   "outputs": [],
   "source": [
    "class TreeNode() :\n",
    "    def __init__(self, x) :\n",
    "        self.val = x\n",
    "        self.right = None\n",
    "        self.left = None"
   ]
  },
  {
   "cell_type": "code",
   "execution_count": 2,
   "id": "dc68f9ec",
   "metadata": {},
   "outputs": [],
   "source": [
    "tree1 = TreeNode(1)\n",
    "tree2 = TreeNode(2)\n",
    "tree3 = TreeNode(3)\n",
    "tree4 = TreeNode(4)\n",
    "tree5 = TreeNode(5)\n",
    "tree6 = TreeNode(6)\n",
    "tree7 = TreeNode(7)\n",
    "\n",
    "tree4.left = tree2\n",
    "tree4.right = tree6\n",
    "\n",
    "tree2.left = tree1\n",
    "tree2.right = tree3\n",
    "\n",
    "tree6.left = tree5\n",
    "tree6.right = tree7"
   ]
  },
  {
   "cell_type": "code",
   "execution_count": 3,
   "id": "6bb11b6d",
   "metadata": {},
   "outputs": [],
   "source": [
    "class BST() :\n",
    "    def __init__(self, root) :\n",
    "        self.root = root\n",
    "    \n",
    "    # def search(self, cur_node, target) :\n",
    "    #     if cur_node == None :\n",
    "    #         return None\n",
    "            \n",
    "    #     if cur_node.val == target :\n",
    "    #         return cur_node\n",
    "        \n",
    "    #     elif cur_node.val > target :\n",
    "    #         return self.search(cur_node.left, target)\n",
    "        \n",
    "    #     else :\n",
    "    #         return self.search(cur_node.right, target)\n",
    "\n",
    "    def __searchHelper(self, cur_node, target) :\n",
    "        if not cur_node :\n",
    "            return None\n",
    "\n",
    "        if cur_node.val == target :\n",
    "            return cur_node\n",
    "        \n",
    "        elif cur_node.val > target :\n",
    "            return self.__searchHelper(cur_node.left, target)\n",
    "\n",
    "        else :\n",
    "            return self.__searchHelper(cur_node.right, target) \n",
    "        \n",
    "    def search(self, target) :\n",
    "        return self.__searchHelper(self.root, target)\n",
    "        \n",
    "    # def insert(self, cur_node, new) :\n",
    "    #     if cur_node == None :\n",
    "    #         return TreeNode(new)\n",
    "\n",
    "    #     if cur_node.val == new :\n",
    "    #         return 'already exist'\n",
    "\n",
    "    #     elif cur_node.val < new :\n",
    "    #         cur_node.right = self.insert(cur_node.right, new)\n",
    "        \n",
    "    #     else :\n",
    "    #         cur_node.left = self.insert(cur_node.left, new)\n",
    "\n",
    "    def __insertHelper(self, cur_node, new) :\n",
    "        if not cur_node :\n",
    "            return TreeNode(new)\n",
    "\n",
    "        if cur_node.val == new :\n",
    "            print('already exist')\n",
    "            \n",
    "        if cur_node.val > new :\n",
    "            cur_node.left = self.__insertHelper(cur_node.left, new)\n",
    "        \n",
    "        elif cur_node. val < new :\n",
    "            cur_node.right = self.__insertHelper(cur_node.right, new)\n",
    "            \n",
    "        return cur_node\n",
    "    \n",
    "    def insert(self, new) :\n",
    "        self.root = self.__insertHelper(self.root, new)\n",
    "\n",
    "    def findMax(self, cur_node) :\n",
    "        cur = cur_node\n",
    "        while cur.right :\n",
    "            cur = cur.right\n",
    "        \n",
    "        return cur\n",
    "        # if not cur_node.right :\n",
    "        #     return cur_node.val\n",
    "        \n",
    "        # else :\n",
    "        #     return self.findMax(cur_node.right)\n",
    "\n",
    "    # def delete(self, cur_node, target) :\n",
    "    #     if self.search(cur_node, target) == None :\n",
    "    #         return None\n",
    "        \n",
    "    #     if cur_node.val == target :\n",
    "    #         if cur_node.right == None and cur_node.left == None :\n",
    "    #             return None\n",
    "            \n",
    "    #         elif cur_node.right != None and cur_node.left != None :\n",
    "    #             new = self.findMax(cur_node.left)\n",
    "                \n",
    "    #             return new\n",
    "\n",
    "    #         elif cur_node.right != None and cur_node.left == None :\n",
    "    #             return cur_node.right\n",
    "\n",
    "    #         else :\n",
    "    #             return cur_node.left\n",
    "\n",
    "\n",
    "    #     elif cur_node.val < target :\n",
    "    #         cur_node.right = self.delete(cur_node.right, target)\n",
    "        \n",
    "    #     else :\n",
    "    #         cur_node.left = self.delete(cur_node.left, target)\n",
    "\n",
    "    def __deleteHelper(self, cur_node, target) :\n",
    "        if not cur_node :\n",
    "            return None\n",
    "        \n",
    "        if cur_node.val > target :\n",
    "            cur_node.left = self.__deleteHelper(cur_node.left, target)\n",
    "        \n",
    "        elif cur_node.val < target :\n",
    "            cur_node.right = self.__deleteHelper(cur_node.right, target)\n",
    "        \n",
    "        else :\n",
    "            if cur_node.left == None and cur_node.right == None :\n",
    "                return None\n",
    "            \n",
    "            elif cur_node.left != None and cur_node.right == None :\n",
    "                return cur_node.left\n",
    "            \n",
    "            elif cur_node.left == None and cur_node.right != None :\n",
    "                return cur_node.right\n",
    "            \n",
    "            else :\n",
    "                new = self.findMax(cur_node.left)\n",
    "                cur_node.left = self.__deleteHelper(cur_node.left, new.val)\n",
    "                cur_node.val = new.val\n",
    "\n",
    "        return cur_node\n",
    "\n",
    "    def delete(self, target) :\n",
    "        self.root = self.__deleteHelper(self.root, target)\n",
    "        \n"
   ]
  },
  {
   "cell_type": "code",
   "execution_count": 4,
   "id": "4ccf7555",
   "metadata": {},
   "outputs": [],
   "source": [
    "myTree = BST(tree4)"
   ]
  },
  {
   "cell_type": "code",
   "execution_count": 5,
   "id": "af9bcfad",
   "metadata": {},
   "outputs": [
    {
     "name": "stdout",
     "output_type": "stream",
     "text": [
      "<__main__.TreeNode object at 0x10c8f59f0> 6\n"
     ]
    }
   ],
   "source": [
    "node = myTree.search(6)\n",
    "if node == None:\n",
    "    print(node)\n",
    "else:\n",
    "    print(node, node.val)"
   ]
  },
  {
   "cell_type": "code",
   "execution_count": 6,
   "id": "612f55c1",
   "metadata": {},
   "outputs": [
    {
     "name": "stdout",
     "output_type": "stream",
     "text": [
      "<__main__.TreeNode object at 0x10c15bbb0> 8\n"
     ]
    }
   ],
   "source": [
    "myTree.insert(8)\n",
    "\n",
    "node = myTree.search(8)\n",
    "if node == None:\n",
    "    print(node)\n",
    "    \n",
    "else:\n",
    "    print(node, node.val)"
   ]
  },
  {
   "cell_type": "code",
   "execution_count": 7,
   "id": "d030b26a",
   "metadata": {},
   "outputs": [
    {
     "name": "stdout",
     "output_type": "stream",
     "text": [
      "4\n",
      "3\n"
     ]
    }
   ],
   "source": [
    "print(myTree.root.val)\n",
    "myTree.delete(4)\n",
    "print(myTree.root.val)"
   ]
  },
  {
   "cell_type": "code",
   "execution_count": 9,
   "id": "a01cf727",
   "metadata": {},
   "outputs": [
    {
     "name": "stdout",
     "output_type": "stream",
     "text": [
      "None\n"
     ]
    }
   ],
   "source": [
    "node = myTree.search(4)\n",
    "if node == None:\n",
    "    print(node)\n",
    "    \n",
    "else:\n",
    "    print(node, node.val)"
   ]
  },
  {
   "cell_type": "code",
   "execution_count": 11,
   "id": "2f11fe77",
   "metadata": {},
   "outputs": [
    {
     "name": "stdout",
     "output_type": "stream",
     "text": [
      "<__main__.TreeNode object at 0x10c8f77c0> 3\n"
     ]
    }
   ],
   "source": [
    "node = myTree.search(3)\n",
    "if node == None:\n",
    "    print(node)\n",
    "    \n",
    "else:\n",
    "    print(node, node.val)"
   ]
  },
  {
   "cell_type": "markdown",
   "id": "42e0ee0d",
   "metadata": {},
   "source": [
    "# Sum of subtree in BST Practice"
   ]
  },
  {
   "cell_type": "code",
   "execution_count": 12,
   "id": "dc3cb57c",
   "metadata": {},
   "outputs": [],
   "source": [
    "class TreeNode:\n",
    "    def __init__(self, val=0, left=None, right=None):\n",
    "        self.val = val\n",
    "        self.left = left\n",
    "        self.right = right\n",
    "    def printTree(self) -> list:\n",
    "        result = list()\n",
    "        thislevel = [self]\n",
    "        while thislevel:\n",
    "            nextlevel = list()\n",
    "            none_list=1\n",
    "            for n in thislevel:\n",
    "                if n !=None:\n",
    "                    none_list=0\n",
    "                    break\n",
    "            if none_list==1:\n",
    "                return result\n",
    "                        \n",
    "            for n in thislevel:\n",
    "                if n != None: \n",
    "                    result.append(n.val)\n",
    "                    nextlevel.append(n.left)\n",
    "                    nextlevel.append(n.right)\n",
    "                else:\n",
    "                    result.append(None)\n",
    "                    nextlevel.append(None)\n",
    "                    nextlevel.append(None)\n",
    "                    \n",
    "            thislevel = nextlevel\n",
    "        return result"
   ]
  },
  {
   "cell_type": "code",
   "execution_count": 13,
   "id": "dfe12396",
   "metadata": {},
   "outputs": [],
   "source": [
    "from collections import deque\n",
    "\n",
    "def create_linked_bst(arr: list) -> TreeNode:\n",
    "    if len(arr) < 1: return None\n",
    "    n = iter(arr)\n",
    "    tree = TreeNode(next(n))\n",
    "    fringe = deque([tree])\n",
    "    while True:\n",
    "        head = fringe.popleft()\n",
    "        try:\n",
    "            l = next(n)\n",
    "            head.left = TreeNode(l) if l != None else None\n",
    "            fringe.append(head.left)\n",
    "            r = next(n)\n",
    "            head.right = TreeNode(r) if r != None else None\n",
    "            fringe.append(head.right)\n",
    "        except StopIteration:\n",
    "            break\n",
    "    return tree"
   ]
  },
  {
   "cell_type": "code",
   "execution_count": 20,
   "id": "b548c2ee",
   "metadata": {},
   "outputs": [],
   "source": [
    "def P1(root, low, high) :\n",
    "    if not root :\n",
    "        return 0\n",
    "\n",
    "    if root.val > high :\n",
    "        return P1(root.left, low, high)\n",
    "    \n",
    "    elif root.val < low :\n",
    "        return P1(root.right, low, high)\n",
    "    \n",
    "    else :\n",
    "        return root.val + P1(root.left, low, high) + P1(root.right, low, high)"
   ]
  },
  {
   "cell_type": "code",
   "execution_count": 21,
   "id": "728b3179",
   "metadata": {},
   "outputs": [
    {
     "data": {
      "text/plain": [
       "15"
      ]
     },
     "execution_count": 21,
     "metadata": {},
     "output_type": "execute_result"
    }
   ],
   "source": [
    "root = create_linked_bst([10,5,15,3,7, 9, 18])\n",
    "P1(root, 3, 9)"
   ]
  },
  {
   "cell_type": "code",
   "execution_count": 22,
   "id": "c7c9d0b0",
   "metadata": {},
   "outputs": [
    {
     "data": {
      "text/plain": [
       "49"
      ]
     },
     "execution_count": 22,
     "metadata": {},
     "output_type": "execute_result"
    }
   ],
   "source": [
    "root = create_linked_bst([10,5,15,3,7, 9, 18])\n",
    "P1(root, 3, 15)"
   ]
  },
  {
   "cell_type": "code",
   "execution_count": 23,
   "id": "e867adf3",
   "metadata": {},
   "outputs": [
    {
     "data": {
      "text/plain": [
       "23"
      ]
     },
     "execution_count": 23,
     "metadata": {},
     "output_type": "execute_result"
    }
   ],
   "source": [
    "root = create_linked_bst ([10,5,15,3,7,13,18,1,None,6])\n",
    "P1(root, 6, 10)"
   ]
  },
  {
   "cell_type": "markdown",
   "id": "b0db97e6",
   "metadata": {},
   "source": [
    "# BFT Practice"
   ]
  },
  {
   "cell_type": "code",
   "execution_count": 9,
   "id": "908fcddc",
   "metadata": {},
   "outputs": [],
   "source": [
    "class TreeNode() :\n",
    "    def __init__(self, x) :\n",
    "        self.val = int(x)\n",
    "        self.right = None\n",
    "        self.left = None"
   ]
  },
  {
   "cell_type": "code",
   "execution_count": 24,
   "id": "4599bf25",
   "metadata": {},
   "outputs": [],
   "source": [
    "tree1 = TreeNode(1)\n",
    "tree2 = TreeNode(2)\n",
    "tree3 = TreeNode(3)\n",
    "tree4 = TreeNode(4)\n",
    "tree5 = TreeNode(5)\n",
    "tree6 = TreeNode(6)\n",
    "tree7 = TreeNode(7)\n",
    "\n",
    "tree4.left = tree2\n",
    "tree4.right = tree6\n",
    "\n",
    "tree2.left = tree1\n",
    "tree2.right = tree3\n",
    "\n",
    "tree6.left = tree5\n",
    "tree6.right = tree7"
   ]
  },
  {
   "cell_type": "code",
   "execution_count": 29,
   "id": "73448304",
   "metadata": {},
   "outputs": [],
   "source": [
    "class BFT() :\n",
    "    def __init__(self, root_node) :\n",
    "        self.root = root_node\n",
    "    \n",
    "    def BFT_trav(self) :\n",
    "        d = [self.root]\n",
    "        while d :\n",
    "            for i in d :\n",
    "                if i != None :\n",
    "                    print(i.val)\n",
    "                    d.append(i.left)\n",
    "                    d.append(i.right)\n",
    "\n",
    "                    d.pop(0)\n",
    "\n",
    "        \n",
    "        \n"
   ]
  },
  {
   "cell_type": "code",
   "execution_count": null,
   "id": "0b40b910",
   "metadata": {},
   "outputs": [],
   "source": []
  }
 ],
 "metadata": {
  "kernelspec": {
   "display_name": "Python 3 (ipykernel)",
   "language": "python",
   "name": "python3"
  },
  "language_info": {
   "codemirror_mode": {
    "name": "ipython",
    "version": 3
   },
   "file_extension": ".py",
   "mimetype": "text/x-python",
   "name": "python",
   "nbconvert_exporter": "python",
   "pygments_lexer": "ipython3",
   "version": "3.10.1"
  },
  "vscode": {
   "interpreter": {
    "hash": "aee8b7b246df8f9039afb4144a1f6fd8d2ca17a180786b69acc140d282b71a49"
   }
  }
 },
 "nbformat": 4,
 "nbformat_minor": 5
}
