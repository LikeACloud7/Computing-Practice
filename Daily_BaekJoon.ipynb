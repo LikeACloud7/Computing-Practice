{
 "cells": [
  {
   "cell_type": "markdown",
   "metadata": {},
   "source": [
    "# 1157"
   ]
  },
  {
   "cell_type": "code",
   "execution_count": 1,
   "metadata": {},
   "outputs": [
    {
     "name": "stdout",
     "output_type": "stream",
     "text": [
      "?\n"
     ]
    }
   ],
   "source": [
    "word = input().lower()\n",
    "count_dict = {}\n",
    "for i in word :\n",
    "    if not count_dict.get(i) :\n",
    "        count_dict[i] = 1\n",
    "    \n",
    "    count_dict[i] += 1\n",
    "\n",
    "word_list = sorted(count_dict.items(),key=lambda x: x[1], reverse=True)\n",
    "if len(word_list) == 1 :\n",
    "    print(word_list[0][0].upper())\n",
    "\n",
    "elif word_list[0][1] == word_list[1][1] :\n",
    "    print('?')\n",
    "\n",
    "else :\n",
    "    print(word_list[0][0].upper())"
   ]
  },
  {
   "cell_type": "markdown",
   "metadata": {},
   "source": [
    "# "
   ]
  },
  {
   "cell_type": "markdown",
   "metadata": {},
   "source": []
  }
 ],
 "metadata": {
  "kernelspec": {
   "display_name": "Python 3.10.1 64-bit",
   "language": "python",
   "name": "python3"
  },
  "language_info": {
   "codemirror_mode": {
    "name": "ipython",
    "version": 3
   },
   "file_extension": ".py",
   "mimetype": "text/x-python",
   "name": "python",
   "nbconvert_exporter": "python",
   "pygments_lexer": "ipython3",
   "version": "3.10.1"
  },
  "orig_nbformat": 4,
  "vscode": {
   "interpreter": {
    "hash": "aee8b7b246df8f9039afb4144a1f6fd8d2ca17a180786b69acc140d282b71a49"
   }
  }
 },
 "nbformat": 4,
 "nbformat_minor": 2
}
