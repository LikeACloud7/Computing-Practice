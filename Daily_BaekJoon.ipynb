{
 "cells": [
  {
   "cell_type": "markdown",
   "metadata": {},
   "source": [
    "# 1157"
   ]
  },
  {
   "cell_type": "code",
   "execution_count": 1,
   "metadata": {},
   "outputs": [
    {
     "name": "stdout",
     "output_type": "stream",
     "text": [
      "?\n"
     ]
    }
   ],
   "source": [
    "word = input().lower()\n",
    "count_dict = {}\n",
    "for i in word :\n",
    "    if not count_dict.get(i) :\n",
    "        count_dict[i] = 1\n",
    "    \n",
    "    count_dict[i] += 1\n",
    "\n",
    "word_list = sorted(count_dict.items(),key=lambda x: x[1], reverse=True)\n",
    "if len(word_list) == 1 :\n",
    "    print(word_list[0][0].upper())\n",
    "\n",
    "elif word_list[0][1] == word_list[1][1] :\n",
    "    print('?')\n",
    "\n",
    "else :\n",
    "    print(word_list[0][0].upper())"
   ]
  },
  {
   "cell_type": "markdown",
   "metadata": {},
   "source": [
    "# "
   ]
  },
  {
   "cell_type": "markdown",
   "metadata": {},
   "source": [
    "# 1152"
   ]
  },
  {
   "cell_type": "code",
   "execution_count": 1,
   "metadata": {},
   "outputs": [
    {
     "name": "stdout",
     "output_type": "stream",
     "text": [
      "6\n"
     ]
    }
   ],
   "source": [
    "s_list = input().split()\n",
    "print(len(s_list))"
   ]
  },
  {
   "cell_type": "markdown",
   "metadata": {},
   "source": [
    "# 2908"
   ]
  },
  {
   "cell_type": "code",
   "execution_count": 2,
   "metadata": {},
   "outputs": [
    {
     "name": "stdout",
     "output_type": "stream",
     "text": [
      "437\n"
     ]
    }
   ],
   "source": [
    "a, b = input().split()\n",
    "if int(a[::-1]) < int(b[::-1]) :\n",
    "    print(int(b[::-1]))\n",
    "else :\n",
    "    print(int(a[::-1]))"
   ]
  },
  {
   "cell_type": "markdown",
   "metadata": {},
   "source": [
    "# 1721"
   ]
  },
  {
   "cell_type": "code",
   "execution_count": 3,
   "metadata": {},
   "outputs": [
    {
     "name": "stdout",
     "output_type": "stream",
     "text": [
      "11\n"
     ]
    }
   ],
   "source": [
    "a, b, c = map(int, input().split())\n",
    "if b - c >= 0 :\n",
    "    print(-1)\n",
    "\n",
    "else :\n",
    "    print(a  // (c - b) + 1 )"
   ]
  },
  {
   "cell_type": "markdown",
   "metadata": {},
   "source": [
    "# 1193"
   ]
  },
  {
   "cell_type": "code",
   "execution_count": 7,
   "metadata": {},
   "outputs": [
    {
     "name": "stdout",
     "output_type": "stream",
     "text": [
      "2/4\n"
     ]
    }
   ],
   "source": [
    "n = int(input())\n",
    "itr = 0\n",
    "while n > 0 :\n",
    "    itr += 1\n",
    "    n -= itr\n",
    "\n",
    "n += itr\n",
    "\n",
    "if itr % 2 == 0 :\n",
    "    print(f'{n}/{itr-n+1}')\n",
    "else :\n",
    "    print(f'{itr-n+1}/{n}')"
   ]
  },
  {
   "cell_type": "markdown",
   "metadata": {},
   "source": [
    "# 1978"
   ]
  },
  {
   "cell_type": "code",
   "execution_count": 8,
   "metadata": {},
   "outputs": [
    {
     "name": "stdout",
     "output_type": "stream",
     "text": [
      "3\n"
     ]
    }
   ],
   "source": [
    "def sosu(n) :\n",
    "    cnt = 0\n",
    "    for i in range(1, n+1) :\n",
    "        if n % i == 0 :\n",
    "            cnt += 1\n",
    "        \n",
    "    return cnt\n",
    "\n",
    "n = int(input())\n",
    "l = list(map(int, input().split()))\n",
    "ans = 0\n",
    "for i in l :\n",
    "    if sosu(i) == 2 :\n",
    "        ans += 1\n",
    "print(ans)\n",
    "    "
   ]
  },
  {
   "cell_type": "markdown",
   "metadata": {},
   "source": [
    "# 10870"
   ]
  },
  {
   "cell_type": "code",
   "execution_count": 2,
   "metadata": {},
   "outputs": [
    {
     "name": "stdout",
     "output_type": "stream",
     "text": [
      "5\n"
     ]
    }
   ],
   "source": [
    "n = int(input())\n",
    "def fivo(n) :\n",
    "    if n == 0 :\n",
    "        return 0\n",
    "\n",
    "    if n == 1 or n == 2:\n",
    "        return 1\n",
    "    else :\n",
    "        return fivo(n-1) + fivo(n-2)\n",
    "        \n",
    "print(fivo(n))"
   ]
  },
  {
   "cell_type": "markdown",
   "metadata": {},
   "source": [
    "# 25501"
   ]
  },
  {
   "cell_type": "code",
   "execution_count": 12,
   "metadata": {},
   "outputs": [
    {
     "name": "stdout",
     "output_type": "stream",
     "text": [
      "1 2\n",
      "0 1\n",
      "1 3\n"
     ]
    }
   ],
   "source": [
    "n = int(input())\n",
    "\n",
    "def J(t, f, e) :\n",
    "    global cnt\n",
    "    if f >= e :\n",
    "        return 1\n",
    "\n",
    "    if t[f] == t[e] :\n",
    "        cnt += 1\n",
    "        return J(t, f+1, e-1)\n",
    "\n",
    "    else :\n",
    "        return 0\n",
    "t_L = []\n",
    "for i in range(n) :\n",
    "    t_L.append(input())\n",
    "\n",
    "for i in t_L :\n",
    "    cnt = 1\n",
    "    print(J(i, 0, len(i)-1), cnt)\n",
    "\n"
   ]
  },
  {
   "cell_type": "markdown",
   "metadata": {},
   "source": [
    "# 2108"
   ]
  },
  {
   "cell_type": "code",
   "execution_count": 21,
   "metadata": {},
   "outputs": [
    {
     "ename": "ValueError",
     "evalue": "invalid literal for int() with base 10: ''",
     "output_type": "error",
     "traceback": [
      "\u001b[0;31m---------------------------------------------------------------------------\u001b[0m",
      "\u001b[0;31mValueError\u001b[0m                                Traceback (most recent call last)",
      "Cell \u001b[0;32mIn [21], line 3\u001b[0m\n\u001b[1;32m      1\u001b[0m \u001b[39mimport\u001b[39;00m \u001b[39msys\u001b[39;00m\n\u001b[1;32m      2\u001b[0m \u001b[39mfrom\u001b[39;00m \u001b[39mcollections\u001b[39;00m \u001b[39mimport\u001b[39;00m Counter\n\u001b[0;32m----> 3\u001b[0m n \u001b[39m=\u001b[39m \u001b[39mint\u001b[39;49m(sys\u001b[39m.\u001b[39;49mstdin\u001b[39m.\u001b[39;49mreadline())\n\u001b[1;32m      4\u001b[0m n_l \u001b[39m=\u001b[39m []\n\u001b[1;32m      5\u001b[0m \u001b[39mfor\u001b[39;00m _ \u001b[39min\u001b[39;00m \u001b[39mrange\u001b[39m(n):\n",
      "\u001b[0;31mValueError\u001b[0m: invalid literal for int() with base 10: ''"
     ]
    }
   ],
   "source": [
    "import sys\n",
    "from collections import Counter\n",
    "n = int(sys.stdin.readline())\n",
    "n_l = []\n",
    "for _ in range(n):\n",
    "    n_l.append(int(sys.stdin.readline()))\n",
    "\n",
    "def mean(L) :\n",
    "    return round(sum(L)/len(L))\n",
    "\n",
    "def mid(L) :\n",
    "    L.sort()\n",
    "    return L[(len(L)+1)//2-1]\n",
    "\n",
    "def freq(L) :\n",
    "    freq_l = Counter(n_l).most_common()\n",
    "    if len(freq_l) > 1 and freq_l[0][1] == freq_l[1][1] :\n",
    "        return freq_l[1][0]\n",
    "    return freq_l[0][0]\n",
    "\n",
    "def interval(L) :\n",
    "    return max(L) - min(L)\n",
    "\n",
    "print(mean(n_l))\n",
    "print(mid(n_l))\n",
    "print(freq(n_l))\n",
    "print(interval(n_l))"
   ]
  },
  {
   "cell_type": "markdown",
   "metadata": {},
   "source": [
    "# 2869"
   ]
  },
  {
   "cell_type": "code",
   "execution_count": 2,
   "metadata": {},
   "outputs": [
    {
     "ename": "KeyboardInterrupt",
     "evalue": "",
     "output_type": "error",
     "traceback": [
      "\u001b[0;31m---------------------------------------------------------------------------\u001b[0m",
      "\u001b[0;31mKeyboardInterrupt\u001b[0m                         Traceback (most recent call last)",
      "Cell \u001b[0;32mIn [2], line 7\u001b[0m\n\u001b[1;32m      5\u001b[0m r \u001b[39m+\u001b[39m\u001b[39m=\u001b[39m a\n\u001b[1;32m      6\u001b[0m day \u001b[39m+\u001b[39m\u001b[39m=\u001b[39m \u001b[39m1\u001b[39m\n\u001b[0;32m----> 7\u001b[0m \u001b[39mif\u001b[39;00m r \u001b[39m>\u001b[39m\u001b[39m=\u001b[39m c :\n\u001b[1;32m      8\u001b[0m     \u001b[39mbreak\u001b[39;00m\n\u001b[1;32m     10\u001b[0m \u001b[39melse\u001b[39;00m :\n",
      "\u001b[0;31mKeyboardInterrupt\u001b[0m: "
     ]
    }
   ],
   "source": [
    "'''\n",
    "For Small Num\n",
    "'''\n",
    "\n",
    "a, b, c = map(int, input().split())\n",
    "day = 0\n",
    "r = 0\n",
    "while r < c :\n",
    "    r += a\n",
    "    day += 1\n",
    "    if r >= c :\n",
    "        break\n",
    "    \n",
    "    else :\n",
    "        r -= b\n",
    "\n",
    "print(day)"
   ]
  },
  {
   "cell_type": "code",
   "execution_count": null,
   "metadata": {},
   "outputs": [],
   "source": []
  }
 ],
 "metadata": {
  "kernelspec": {
   "display_name": "Python 3.10.1 64-bit",
   "language": "python",
   "name": "python3"
  },
  "language_info": {
   "codemirror_mode": {
    "name": "ipython",
    "version": 3
   },
   "file_extension": ".py",
   "mimetype": "text/x-python",
   "name": "python",
   "nbconvert_exporter": "python",
   "pygments_lexer": "ipython3",
   "version": "3.10.1"
  },
  "orig_nbformat": 4,
  "vscode": {
   "interpreter": {
    "hash": "aee8b7b246df8f9039afb4144a1f6fd8d2ca17a180786b69acc140d282b71a49"
   }
  }
 },
 "nbformat": 4,
 "nbformat_minor": 2
}
