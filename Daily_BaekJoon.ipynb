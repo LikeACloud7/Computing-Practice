{
 "cells": [
  {
   "cell_type": "markdown",
   "metadata": {},
   "source": [
    "# 1157"
   ]
  },
  {
   "cell_type": "code",
   "execution_count": 1,
   "metadata": {},
   "outputs": [
    {
     "name": "stdout",
     "output_type": "stream",
     "text": [
      "?\n"
     ]
    }
   ],
   "source": [
    "word = input().lower()\n",
    "count_dict = {}\n",
    "for i in word :\n",
    "    if not count_dict.get(i) :\n",
    "        count_dict[i] = 1\n",
    "    \n",
    "    count_dict[i] += 1\n",
    "\n",
    "word_list = sorted(count_dict.items(),key=lambda x: x[1], reverse=True)\n",
    "if len(word_list) == 1 :\n",
    "    print(word_list[0][0].upper())\n",
    "\n",
    "elif word_list[0][1] == word_list[1][1] :\n",
    "    print('?')\n",
    "\n",
    "else :\n",
    "    print(word_list[0][0].upper())"
   ]
  },
  {
   "cell_type": "markdown",
   "metadata": {},
   "source": [
    "# 1152"
   ]
  },
  {
   "cell_type": "code",
   "execution_count": 1,
   "metadata": {},
   "outputs": [
    {
     "name": "stdout",
     "output_type": "stream",
     "text": [
      "6\n"
     ]
    }
   ],
   "source": [
    "s_list = input().split()\n",
    "print(len(s_list))"
   ]
  },
  {
   "cell_type": "markdown",
   "metadata": {},
   "source": [
    "# 2908"
   ]
  },
  {
   "cell_type": "code",
   "execution_count": 2,
   "metadata": {},
   "outputs": [
    {
     "name": "stdout",
     "output_type": "stream",
     "text": [
      "437\n"
     ]
    }
   ],
   "source": [
    "a, b = input().split()\n",
    "if int(a[::-1]) < int(b[::-1]) :\n",
    "    print(int(b[::-1]))\n",
    "else :\n",
    "    print(int(a[::-1]))"
   ]
  },
  {
   "cell_type": "markdown",
   "metadata": {},
   "source": [
    "# 1721"
   ]
  },
  {
   "cell_type": "code",
   "execution_count": 3,
   "metadata": {},
   "outputs": [
    {
     "name": "stdout",
     "output_type": "stream",
     "text": [
      "11\n"
     ]
    }
   ],
   "source": [
    "a, b, c = map(int, input().split())\n",
    "if b - c >= 0 :\n",
    "    print(-1)\n",
    "\n",
    "else :\n",
    "    print(a  // (c - b) + 1 )"
   ]
  },
  {
   "cell_type": "markdown",
   "metadata": {},
   "source": [
    "# 1193"
   ]
  },
  {
   "cell_type": "code",
   "execution_count": 7,
   "metadata": {},
   "outputs": [
    {
     "name": "stdout",
     "output_type": "stream",
     "text": [
      "2/4\n"
     ]
    }
   ],
   "source": [
    "n = int(input())\n",
    "itr = 0\n",
    "while n > 0 :\n",
    "    itr += 1\n",
    "    n -= itr\n",
    "\n",
    "n += itr\n",
    "\n",
    "if itr % 2 == 0 :\n",
    "    print(f'{n}/{itr-n+1}')\n",
    "else :\n",
    "    print(f'{itr-n+1}/{n}')"
   ]
  },
  {
   "cell_type": "markdown",
   "metadata": {},
   "source": [
    "# 1978"
   ]
  },
  {
   "cell_type": "code",
   "execution_count": 8,
   "metadata": {},
   "outputs": [
    {
     "name": "stdout",
     "output_type": "stream",
     "text": [
      "3\n"
     ]
    }
   ],
   "source": [
    "def sosu(n) :\n",
    "    cnt = 0\n",
    "    for i in range(1, n+1) :\n",
    "        if n % i == 0 :\n",
    "            cnt += 1\n",
    "        \n",
    "    return cnt\n",
    "\n",
    "n = int(input())\n",
    "l = list(map(int, input().split()))\n",
    "ans = 0\n",
    "for i in l :\n",
    "    if sosu(i) == 2 :\n",
    "        ans += 1\n",
    "print(ans)\n",
    "    "
   ]
  },
  {
   "cell_type": "markdown",
   "metadata": {},
   "source": [
    "# 10870"
   ]
  },
  {
   "cell_type": "code",
   "execution_count": 2,
   "metadata": {},
   "outputs": [
    {
     "name": "stdout",
     "output_type": "stream",
     "text": [
      "5\n"
     ]
    }
   ],
   "source": [
    "n = int(input())\n",
    "def fivo(n) :\n",
    "    if n == 0 :\n",
    "        return 0\n",
    "\n",
    "    if n == 1 or n == 2:\n",
    "        return 1\n",
    "    else :\n",
    "        return fivo(n-1) + fivo(n-2)\n",
    "        \n",
    "print(fivo(n))"
   ]
  },
  {
   "cell_type": "markdown",
   "metadata": {},
   "source": [
    "# 25501"
   ]
  },
  {
   "cell_type": "code",
   "execution_count": 12,
   "metadata": {},
   "outputs": [
    {
     "name": "stdout",
     "output_type": "stream",
     "text": [
      "1 2\n",
      "0 1\n",
      "1 3\n"
     ]
    }
   ],
   "source": [
    "n = int(input())\n",
    "\n",
    "def J(t, f, e) :\n",
    "    global cnt\n",
    "    if f >= e :\n",
    "        return 1\n",
    "\n",
    "    if t[f] == t[e] :\n",
    "        cnt += 1\n",
    "        return J(t, f+1, e-1)\n",
    "\n",
    "    else :\n",
    "        return 0\n",
    "t_L = []\n",
    "for i in range(n) :\n",
    "    t_L.append(input())\n",
    "\n",
    "for i in t_L :\n",
    "    cnt = 1\n",
    "    print(J(i, 0, len(i)-1), cnt)\n",
    "\n"
   ]
  },
  {
   "cell_type": "markdown",
   "metadata": {},
   "source": [
    "# 2108"
   ]
  },
  {
   "cell_type": "code",
   "execution_count": 21,
   "metadata": {},
   "outputs": [
    {
     "ename": "ValueError",
     "evalue": "invalid literal for int() with base 10: ''",
     "output_type": "error",
     "traceback": [
      "\u001b[0;31m---------------------------------------------------------------------------\u001b[0m",
      "\u001b[0;31mValueError\u001b[0m                                Traceback (most recent call last)",
      "Cell \u001b[0;32mIn [21], line 3\u001b[0m\n\u001b[1;32m      1\u001b[0m \u001b[39mimport\u001b[39;00m \u001b[39msys\u001b[39;00m\n\u001b[1;32m      2\u001b[0m \u001b[39mfrom\u001b[39;00m \u001b[39mcollections\u001b[39;00m \u001b[39mimport\u001b[39;00m Counter\n\u001b[0;32m----> 3\u001b[0m n \u001b[39m=\u001b[39m \u001b[39mint\u001b[39;49m(sys\u001b[39m.\u001b[39;49mstdin\u001b[39m.\u001b[39;49mreadline())\n\u001b[1;32m      4\u001b[0m n_l \u001b[39m=\u001b[39m []\n\u001b[1;32m      5\u001b[0m \u001b[39mfor\u001b[39;00m _ \u001b[39min\u001b[39;00m \u001b[39mrange\u001b[39m(n):\n",
      "\u001b[0;31mValueError\u001b[0m: invalid literal for int() with base 10: ''"
     ]
    }
   ],
   "source": [
    "import sys\n",
    "from collections import Counter\n",
    "n = int(sys.stdin.readline())\n",
    "n_l = []\n",
    "for _ in range(n):\n",
    "    n_l.append(int(sys.stdin.readline()))\n",
    "\n",
    "def mean(L) :\n",
    "    return round(sum(L)/len(L))\n",
    "\n",
    "def mid(L) :\n",
    "    L.sort()\n",
    "    return L[(len(L)+1)//2-1]\n",
    "\n",
    "def freq(L) :\n",
    "    freq_l = Counter(n_l).most_common()\n",
    "    if len(freq_l) > 1 and freq_l[0][1] == freq_l[1][1] :\n",
    "        return freq_l[1][0]\n",
    "    return freq_l[0][0]\n",
    "\n",
    "def interval(L) :\n",
    "    return max(L) - min(L)\n",
    "\n",
    "print(mean(n_l))\n",
    "print(mid(n_l))\n",
    "print(freq(n_l))\n",
    "print(interval(n_l))"
   ]
  },
  {
   "cell_type": "markdown",
   "metadata": {},
   "source": [
    "# 15552"
   ]
  },
  {
   "cell_type": "code",
   "execution_count": 1,
   "metadata": {},
   "outputs": [
    {
     "ename": "ValueError",
     "evalue": "invalid literal for int() with base 10: ''",
     "output_type": "error",
     "traceback": [
      "\u001b[0;31m---------------------------------------------------------------------------\u001b[0m",
      "\u001b[0;31mValueError\u001b[0m                                Traceback (most recent call last)",
      "Cell \u001b[0;32mIn [1], line 3\u001b[0m\n\u001b[1;32m      1\u001b[0m \u001b[39mimport\u001b[39;00m \u001b[39msys\u001b[39;00m\n\u001b[0;32m----> 3\u001b[0m n \u001b[39m=\u001b[39m \u001b[39mint\u001b[39;49m(sys\u001b[39m.\u001b[39;49mstdin\u001b[39m.\u001b[39;49mreadline())\n",
      "\u001b[0;31mValueError\u001b[0m: invalid literal for int() with base 10: ''"
     ]
    }
   ],
   "source": [
    "import sys\n",
    "\n",
    "n = int(input())\n",
    "l = []\n",
    "for i in range(n) :\n",
    "    a, b = map(int, sys.stdin.readline().split())\n",
    "    l.append(a+b)\n",
    "for i in l :\n",
    "    print(i)"
   ]
  },
  {
   "cell_type": "markdown",
   "metadata": {},
   "source": [
    "# 10951"
   ]
  },
  {
   "cell_type": "code",
   "execution_count": null,
   "metadata": {},
   "outputs": [],
   "source": [
    "while True :\n",
    "    try : \n",
    "        a,b = map(int, input().split())\n",
    "        print(a+b)\n",
    "    except EOFError :\n",
    "        break\n"
   ]
  },
  {
   "cell_type": "markdown",
   "metadata": {},
   "source": [
    "# 11654"
   ]
  },
  {
   "cell_type": "code",
   "execution_count": 2,
   "metadata": {},
   "outputs": [
    {
     "name": "stdout",
     "output_type": "stream",
     "text": [
      "57\n"
     ]
    }
   ],
   "source": [
    "n = input()\n",
    "try :\n",
    "    print(ord(int(n)))\n",
    "except :\n",
    "    print(ord(n))"
   ]
  },
  {
   "cell_type": "markdown",
   "metadata": {},
   "source": [
    "# 1316"
   ]
  },
  {
   "cell_type": "code",
   "execution_count": 12,
   "metadata": {},
   "outputs": [
    {
     "name": "stdout",
     "output_type": "stream",
     "text": [
      "3\n"
     ]
    }
   ],
   "source": [
    "def checker(word) :\n",
    "    for i in range(len(word)-1) :\n",
    "        if word[i] == word[i+1] :\n",
    "            continue\n",
    "        else :\n",
    "            n = i + 1\n",
    "            if word[n-1] in word[n:] :\n",
    "                return 0\n",
    "\n",
    "            else :\n",
    "                continue\n",
    "    return 1\n",
    "\n",
    "w = []\n",
    "ans = 0\n",
    "n = int(input())\n",
    "for i in range(n) :\n",
    "    w.append(input())\n",
    "for i in w :\n",
    "    ans += checker(i)\n",
    "print(ans)"
   ]
  },
  {
   "cell_type": "markdown",
   "metadata": {},
   "source": [
    "# 5622"
   ]
  },
  {
   "cell_type": "code",
   "execution_count": 3,
   "metadata": {},
   "outputs": [
    {
     "name": "stdout",
     "output_type": "stream",
     "text": [
      "36\n"
     ]
    }
   ],
   "source": [
    "n = [(), (), (), ('A','B','C'), ('D','E','F'), ('G','H','I'), ('J','K','L'),('M','N','O'),('P','Q','R','S'),('T','U','V'),('W','X','Y','Z')]\n",
    "s = input()\n",
    "c = 0\n",
    "for i in s :\n",
    "    for j in range(len(n)) :\n",
    "        if i in n[j] :\n",
    "            break\n",
    "    c += j\n",
    "print(c)\n"
   ]
  },
  {
   "cell_type": "markdown",
   "metadata": {},
   "source": [
    "# 2738"
   ]
  },
  {
   "cell_type": "code",
   "execution_count": 13,
   "metadata": {},
   "outputs": [
    {
     "name": "stdout",
     "output_type": "stream",
     "text": [
      "2 2 2 \n",
      "4 4 4 \n",
      "6 6 6 \n"
     ]
    }
   ],
   "source": [
    "a, b = map(int, input().split())\n",
    "m1 = []\n",
    "m2 = []\n",
    "for i in range(a) :\n",
    "    m1.append(list(map(int, input().split())))\n",
    "\n",
    "for i in range(a) :\n",
    "    m2.append(list(map(int, input().split())))\n",
    "\n",
    "for i in range(a) :\n",
    "    for j in range(b) :\n",
    "        print(m1[i][j]+m2[i][j], end = ' ')\n",
    "    print()    "
   ]
  },
  {
   "cell_type": "markdown",
   "metadata": {},
   "source": [
    "# 10807"
   ]
  },
  {
   "cell_type": "code",
   "execution_count": null,
   "metadata": {},
   "outputs": [],
   "source": [
    "n = int(input())\n",
    "l = list(map(int, input().split()))\n",
    "t = int(input())\n",
    "count = 0\n",
    "for i in l :\n",
    "    if i == t :\n",
    "        count += 1\n",
    "print(count)"
   ]
  },
  {
   "cell_type": "markdown",
   "metadata": {},
   "source": [
    "# 5597"
   ]
  },
  {
   "cell_type": "code",
   "execution_count": 4,
   "metadata": {},
   "outputs": [
    {
     "name": "stdout",
     "output_type": "stream",
     "text": [
      "29\n",
      "30\n"
     ]
    }
   ],
   "source": [
    "s = set()\n",
    "a = set(range(1, 31))\n",
    "for i in range(28) :\n",
    "    s.add(int(input()))\n",
    "for i in sorted(list(a - s)) :\n",
    "    print(i)"
   ]
  },
  {
   "cell_type": "markdown",
   "metadata": {},
   "source": [
    "# 2566"
   ]
  },
  {
   "cell_type": "code",
   "execution_count": 1,
   "metadata": {},
   "outputs": [
    {
     "name": "stdout",
     "output_type": "stream",
     "text": [
      "90\n",
      "4 6\n"
     ]
    }
   ],
   "source": [
    "mtx = []\n",
    "for i in range(9) :\n",
    "    row = list(map(int, input().split()))\n",
    "    mtx.append(row)\n",
    "\n",
    "max_r = 0\n",
    "max_c = 0\n",
    "m = 0\n",
    "for r in range(len(mtx)) :\n",
    "    for c in range(len(mtx[0])) :\n",
    "        if mtx[r][c] > m :\n",
    "            max_r = r\n",
    "            max_c = c\n",
    "            m = mtx[r][c]\n",
    "print(m)\n",
    "print(max_r+1, max_c+1)"
   ]
  },
  {
   "cell_type": "markdown",
   "metadata": {},
   "source": [
    "# 10989"
   ]
  },
  {
   "cell_type": "code",
   "execution_count": 3,
   "metadata": {},
   "outputs": [
    {
     "name": "stdout",
     "output_type": "stream",
     "text": [
      "1\n",
      "1\n",
      "2\n",
      "2\n",
      "3\n",
      "3\n",
      "4\n",
      "5\n",
      "5\n",
      "7\n"
     ]
    }
   ],
   "source": [
    "import sys\n",
    "n = int(input())\n",
    "h = [0]*10001\n",
    "for i in range(n) :\n",
    "    k = int(sys.stdin.readline())\n",
    "    h[k] += 1\n",
    "for i in range(len(h)) :\n",
    "    if h[i] :\n",
    "        for j in range(h[i]) :\n",
    "            print(i)\n",
    "    "
   ]
  },
  {
   "cell_type": "markdown",
   "metadata": {},
   "source": [
    "# 11650"
   ]
  },
  {
   "cell_type": "code",
   "execution_count": 8,
   "metadata": {},
   "outputs": [
    {
     "name": "stdout",
     "output_type": "stream",
     "text": [
      "1 -1\n",
      "1 1\n",
      "2 2\n",
      "3 3\n",
      "3 4\n"
     ]
    }
   ],
   "source": [
    "import sys\n",
    "n = int(input())\n",
    "p = []\n",
    "for i in range(n) :\n",
    "    p.append(tuple(map(int, sys.stdin.readline().split())))\n",
    "\n",
    "p.sort(key = lambda x : (x[0], x[1]))\n",
    "\n",
    "for i in p :\n",
    "    print(i[0], i[1])\n",
    "    \n",
    "# for i in range(len(p)-1) :\n",
    "#     if p[i][0] == p[i+1][0] and p[i][1] > p[i+1][1] :\n",
    "#         p[i], p[i+1] = p[i+1], p[i]"
   ]
  },
  {
   "cell_type": "markdown",
   "metadata": {},
   "source": [
    "# 11651"
   ]
  },
  {
   "cell_type": "code",
   "execution_count": null,
   "metadata": {},
   "outputs": [],
   "source": [
    "import sys\n",
    "n = int(input())\n",
    "l = []\n",
    "for i in range(n) :\n",
    "    l.append(tuple(map(int, sys.stdin.readline().split())))\n",
    "\n",
    "l.sort(key = lambda x : [x[1], x[0]])\n",
    "for i in l :\n",
    "    print(i[0], i[1])"
   ]
  },
  {
   "cell_type": "markdown",
   "metadata": {},
   "source": [
    "# 24060"
   ]
  },
  {
   "cell_type": "code",
   "execution_count": 37,
   "metadata": {},
   "outputs": [],
   "source": [
    "n, k = map(int, input().split())\n",
    "l = list(map(int, input().split()))\n",
    "\n",
    "\n",
    "def score(players, M):\n",
    "    moving = []\n",
    "\n",
    "    def merge_sort_moving(lst) :\n",
    "\n",
    "        if len(lst) >1 :\n",
    "            mid = (len(lst) + 1) // 2\n",
    "            left = lst[:mid]\n",
    "            right = lst[mid:]\n",
    "\n",
    "            merge_sort_moving(left)\n",
    "            merge_sort_moving(right)\n",
    "\n",
    "            l, r, s = 0, 0, 0\n",
    "            \n",
    "            while l < len(left) and r < len(right) :\n",
    "                if left[l] < right[r] :\n",
    "                    lst[s] = left[l]\n",
    "                    l += 1\n",
    "\n",
    "                else :\n",
    "                    lst[s] = right[r]\n",
    "                    r += 1\n",
    "                \n",
    "                s += 1\n",
    "\n",
    "            while r < len(right) :\n",
    "                lst[s] = right[r]\n",
    "                r += 1\n",
    "                s += 1\n",
    "            \n",
    "            while l < len(left) :\n",
    "                lst[s] = left[l]\n",
    "                l += 1\n",
    "                s += 1\n",
    "        \n",
    "            for i in lst :\n",
    "                moving.append(i)\n",
    "    \n",
    "    merge_sort_moving(players)\n",
    "\n",
    "    if len(moving) < M:\n",
    "        return -1\n",
    "    else:\n",
    "        return moving[M-1]\n",
    "    \n",
    "print(score(l, k))"
   ]
  },
  {
   "cell_type": "markdown",
   "metadata": {},
   "source": [
    "# 2563"
   ]
  },
  {
   "cell_type": "code",
   "execution_count": 50,
   "metadata": {},
   "outputs": [
    {
     "name": "stdout",
     "output_type": "stream",
     "text": [
      "260\n"
     ]
    }
   ],
   "source": [
    "p = []\n",
    "for i in range(100) :\n",
    "    p.append([0]*100)\n",
    "\n",
    "n = int(input())\n",
    "l = []\n",
    "for i in range(n) :\n",
    "    l.append(tuple(map(int, input().split())))\n",
    "\n",
    "for R, C in l :\n",
    "    for r in range(R, R+10) :\n",
    "        for c in range(C, C+10) :\n",
    "            if p[r][c] == 0 :\n",
    "                p[r][c] = 1\n",
    "            else :\n",
    "                continue\n",
    "\n",
    "s = 0\n",
    "for i in p :\n",
    "    s += sum(i)\n",
    "print(s)"
   ]
  },
  {
   "cell_type": "markdown",
   "metadata": {},
   "source": [
    "# 2581"
   ]
  },
  {
   "cell_type": "code",
   "execution_count": 68,
   "metadata": {},
   "outputs": [
    {
     "name": "stdout",
     "output_type": "stream",
     "text": [
      "620\n",
      "61\n"
     ]
    }
   ],
   "source": [
    "l = int(input())\n",
    "h = int(input())\n",
    "\n",
    "def sosu(n) :\n",
    "    if n == 2 :\n",
    "        return True \n",
    "    elif n > 2 :\n",
    "        for i in range(2, n) :\n",
    "            if n % i == 0 :\n",
    "                return False\n",
    "        return True\n",
    "\n",
    "n = []\n",
    "for i in range(l, h+1) :\n",
    "    if sosu(i) == True :\n",
    "        n.append(i)\n",
    "\n",
    "if len(n) <= 0 :\n",
    "    print(-1)\n",
    "else :\n",
    "    print(sum(n))\n",
    "    print(min(n))\n"
   ]
  },
  {
   "cell_type": "markdown",
   "metadata": {},
   "source": [
    "# 2869 RE"
   ]
  },
  {
   "cell_type": "code",
   "execution_count": 2,
   "metadata": {},
   "outputs": [
    {
     "ename": "KeyboardInterrupt",
     "evalue": "",
     "output_type": "error",
     "traceback": [
      "\u001b[0;31m---------------------------------------------------------------------------\u001b[0m",
      "\u001b[0;31mKeyboardInterrupt\u001b[0m                         Traceback (most recent call last)",
      "Cell \u001b[0;32mIn [2], line 7\u001b[0m\n\u001b[1;32m      5\u001b[0m r \u001b[39m+\u001b[39m\u001b[39m=\u001b[39m a\n\u001b[1;32m      6\u001b[0m day \u001b[39m+\u001b[39m\u001b[39m=\u001b[39m \u001b[39m1\u001b[39m\n\u001b[0;32m----> 7\u001b[0m \u001b[39mif\u001b[39;00m r \u001b[39m>\u001b[39m\u001b[39m=\u001b[39m c :\n\u001b[1;32m      8\u001b[0m     \u001b[39mbreak\u001b[39;00m\n\u001b[1;32m     10\u001b[0m \u001b[39melse\u001b[39;00m :\n",
      "\u001b[0;31mKeyboardInterrupt\u001b[0m: "
     ]
    }
   ],
   "source": [
    "'''\n",
    "For Small Num\n",
    "'''\n",
    "\n",
    "a, b, c = map(int, input().split())\n",
    "day = 0\n",
    "r = 0\n",
    "while r < c :\n",
    "    r += a\n",
    "    day += 1\n",
    "    if r >= c :\n",
    "        break\n",
    "    \n",
    "    else :\n",
    "        r -= b\n",
    "\n",
    "print(day)"
   ]
  },
  {
   "cell_type": "markdown",
   "metadata": {},
   "source": [
    "# 1181"
   ]
  },
  {
   "cell_type": "code",
   "execution_count": 11,
   "metadata": {},
   "outputs": [
    {
     "name": "stdout",
     "output_type": "stream",
     "text": [
      "w\n",
      "bet\n",
      "but\n"
     ]
    }
   ],
   "source": [
    "n = int(input())\n",
    "w = set()\n",
    "for i in range(n) :\n",
    "    w.add(input())\n",
    "w = list(w)\n",
    "w.sort(key = lambda x : (len(x), x))\n",
    "for i in w :\n",
    "    print(i)\n"
   ]
  },
  {
   "cell_type": "markdown",
   "metadata": {},
   "source": [
    "# 10814"
   ]
  },
  {
   "cell_type": "code",
   "execution_count": 14,
   "metadata": {},
   "outputs": [
    {
     "name": "stdout",
     "output_type": "stream",
     "text": [
      "20 Sunyoung\n",
      "21 Junkyu\n",
      "21 Dohyun\n"
     ]
    }
   ],
   "source": [
    "n = int(input())\n",
    "l = []\n",
    "for i in range(1, n+1) :\n",
    "    t = input().split()\n",
    "    t.append(i)\n",
    "    l.append(t)\n",
    "\n",
    "l.sort(key = lambda x : (int(x[0]), x[2]))\n",
    "for i in l :\n",
    "    print(int(i[0]), i[1])"
   ]
  },
  {
   "cell_type": "markdown",
   "metadata": {},
   "source": [
    "# 18870 RE"
   ]
  },
  {
   "cell_type": "code",
   "execution_count": null,
   "metadata": {},
   "outputs": [],
   "source": []
  },
  {
   "cell_type": "markdown",
   "metadata": {},
   "source": [
    "# 2798 RE"
   ]
  },
  {
   "cell_type": "code",
   "execution_count": 30,
   "metadata": {},
   "outputs": [
    {
     "name": "stdout",
     "output_type": "stream",
     "text": [
      "497\n"
     ]
    }
   ],
   "source": [
    "import sys\n",
    "from itertools import combinations\n",
    "\n",
    "n, m = map(int, input().split())\n",
    "l = list(map(int, input().split()))\n",
    "a = list(map(sum, combinations(l, 3)))\n",
    "\n",
    "if m in set(a) :\n",
    "    print(m)\n",
    "else :\n",
    "    a.sort()\n",
    "    for i in range(len(a)) :\n",
    "        if a[i] > m :\n",
    "            break\n",
    "    print(a[i-1])"
   ]
  },
  {
   "cell_type": "markdown",
   "metadata": {},
   "source": [
    "# 13140"
   ]
  },
  {
   "cell_type": "code",
   "execution_count": 45,
   "metadata": {},
   "outputs": [
    {
     "name": "stdout",
     "output_type": "stream",
     "text": [
      "  17339\n",
      "+ 49632\n",
      "-------\n",
      "  66971\n"
     ]
    }
   ],
   "source": [
    "from itertools import permutations\n",
    "\n",
    "ans = int(input())\n",
    "q = list(permutations(range(10), 7))\n",
    "c = len(q)\n",
    "co = 0\n",
    "for d, e, h, l, o, r, w in q :\n",
    "    if h == 0 or w == 0 :\n",
    "        co += 1\n",
    "        continue\n",
    "        \n",
    "    else :\n",
    "        co += 1\n",
    "        if int(str(h) + str(e) + str(l) + str(l) + str(o)) + int(str(w) + str(o) + str(r) + str(l) + str(d)) == ans :\n",
    "            print(f'  {int(str(h) + str(e) + str(l) + str(l) + str(o))}')\n",
    "            print(f'+ {int(str(w) + str(o) + str(r) + str(l) + str(d))}')\n",
    "            print('-------')\n",
    "            if ans >= 100000:\n",
    "                print(f' {ans}')\n",
    "                break\n",
    "            else :\n",
    "                print(f'  {ans}')\n",
    "                break\n",
    "\n",
    "if co == c :\n",
    "    print('No Answer')\n"
   ]
  },
  {
   "cell_type": "markdown",
   "metadata": {},
   "source": [
    "# 10815"
   ]
  },
  {
   "cell_type": "code",
   "execution_count": 46,
   "metadata": {},
   "outputs": [
    {
     "name": "stdout",
     "output_type": "stream",
     "text": [
      "\n"
     ]
    }
   ],
   "source": [
    "import sys\n",
    "a = int(input())\n",
    "l = set(map(int, sys.stdin.readline().rstrip().split()))\n",
    "b = int(input())\n",
    "m = list(map(int, sys.stdin.readline().rstrip().split()))\n",
    "ans = []\n",
    "for i in m :\n",
    "    if i in l :\n",
    "        print(1, end = ' ')\n",
    "    else :\n",
    "        print(0, end = ' ')\n"
   ]
  },
  {
   "cell_type": "markdown",
   "metadata": {},
   "source": [
    "# 14425"
   ]
  },
  {
   "cell_type": "code",
   "execution_count": null,
   "metadata": {},
   "outputs": [],
   "source": [
    "import sys\n",
    "n, m = map(int, input().split())\n",
    "w = set()\n",
    "ans = 0\n",
    "for i in range(n) :\n",
    "    w.add(sys.stdin.readline().rstrip())\n",
    "\n",
    "for i in range(m) :\n",
    "    word = sys.stdin.readline().rstrip()\n",
    "    if word in w :\n",
    "        ans += 1\n",
    "print(ans)"
   ]
  },
  {
   "cell_type": "markdown",
   "metadata": {},
   "source": [
    "# 10816"
   ]
  },
  {
   "cell_type": "code",
   "execution_count": null,
   "metadata": {},
   "outputs": [],
   "source": [
    "from collections import Counter\n",
    "n = int(input())\n",
    "l = list(map(int, sys.stdin.readline().rstrip().split()))\n",
    "l = dict(Counter(l))\n",
    "m = int(input())\n",
    "k = list(map(int, sys.stdin.readline().rstrip().split()))\n",
    "for i in k :\n",
    "    print(l[i], end = ' ')"
   ]
  },
  {
   "cell_type": "markdown",
   "metadata": {},
   "source": [
    "# 9012"
   ]
  },
  {
   "cell_type": "code",
   "execution_count": 3,
   "metadata": {},
   "outputs": [
    {
     "name": "stdout",
     "output_type": "stream",
     "text": [
      "YES\n",
      "NO\n",
      "NO\n"
     ]
    }
   ],
   "source": [
    "from collections import deque\n",
    "g = []\n",
    "n = int(input())\n",
    "for i in range(n) :\n",
    "    g.append(input())\n",
    "\n",
    "def checker(t) :\n",
    "    s = deque()\n",
    "    for i in t :\n",
    "        if not len(s) and i == ')' :\n",
    "            return 'NO'\n",
    "        elif i == '(' :\n",
    "            s.append(i)\n",
    "        \n",
    "        elif i == ')' :\n",
    "            s.pop()\n",
    "    if not len(s) :\n",
    "        return 'YES'\n",
    "    else :\n",
    "        return 'NO'\n",
    "\n",
    "for i in g :\n",
    "    print(checker(i), end = '\\n')"
   ]
  },
  {
   "cell_type": "markdown",
   "metadata": {},
   "source": [
    "# 10828"
   ]
  },
  {
   "cell_type": "code",
   "execution_count": 8,
   "metadata": {},
   "outputs": [
    {
     "name": "stdout",
     "output_type": "stream",
     "text": [
      "0\n"
     ]
    }
   ],
   "source": [
    "import sys\n",
    "from collections import deque\n",
    "class Stack() :\n",
    "    def __init__(self) :\n",
    "        self.stack = deque()\n",
    "\n",
    "    def push(self, x) :\n",
    "        self.stack.append(x)\n",
    "    \n",
    "    def pop(self) :\n",
    "        if not len(self.stack) :\n",
    "            return -1\n",
    "        else :\n",
    "            return self.stack.pop()\n",
    "    \n",
    "    def size(self) :\n",
    "        return len(self.stack)\n",
    "    \n",
    "    def empty(self) :\n",
    "        if not self.size() :\n",
    "            return 1\n",
    "        else :\n",
    "            return 0\n",
    "    \n",
    "    def top(self) :\n",
    "        if self.empty() :\n",
    "            return -1\n",
    "        else :\n",
    "            return self.stack[-1]\n",
    "\n",
    "s = Stack()\n",
    "n = int(input())\n",
    "for i in range(n) :\n",
    "    t = sys.stdin.readline().rstrip()\n",
    "    if 'push' in t :\n",
    "        t, x = t.split()\n",
    "        s.push(int(x))\n",
    "    elif 'pop' in t :\n",
    "        print(s.pop())\n",
    "    elif 'size' in t :\n",
    "        print(s.size())\n",
    "    elif 'empty' in t :\n",
    "        print(s.empty())\n",
    "    elif 'top' in t :\n",
    "        print(s.top())"
   ]
  },
  {
   "cell_type": "markdown",
   "metadata": {},
   "source": [
    "# 10773"
   ]
  },
  {
   "cell_type": "code",
   "execution_count": 3,
   "metadata": {},
   "outputs": [
    {
     "name": "stdout",
     "output_type": "stream",
     "text": [
      "0\n"
     ]
    }
   ],
   "source": [
    "from collections import deque\n",
    "import sys\n",
    "s = deque()\n",
    "n = int(input())\n",
    "for i in range(n) :\n",
    "    new = int(input())\n",
    "    if new :\n",
    "        s.append(new)\n",
    "    else :\n",
    "        s.pop()\n",
    "print(sum(s))"
   ]
  },
  {
   "cell_type": "markdown",
   "metadata": {},
   "source": [
    "# 4949"
   ]
  },
  {
   "cell_type": "code",
   "execution_count": 15,
   "metadata": {},
   "outputs": [
    {
     "name": "stdout",
     "output_type": "stream",
     "text": [
      "yes\n",
      "yes\n",
      "no\n",
      "no\n",
      "no\n",
      "yes\n",
      "yes\n"
     ]
    }
   ],
   "source": [
    "from collections import deque\n",
    "def checker(w) :\n",
    "    s = deque()\n",
    "    for i in w :\n",
    "        if i == '(' or i == '[':\n",
    "            s.append(i)\n",
    "        \n",
    "        elif not len(s) :\n",
    "            if i == ')' or i == ']' :\n",
    "                return 'no'\n",
    "\n",
    "        elif i == ')' and s[-1] == '[' :\n",
    "            return 'no'\n",
    "        elif i == ']' and s[-1] == '(' :\n",
    "            return 'no'\n",
    "        \n",
    "        elif i == ')' and s[-1] == '(' :\n",
    "            s.pop()\n",
    "        elif i == ']' and s[-1] == '[' :\n",
    "            s.pop()\n",
    "        \n",
    "    if not len(s) :\n",
    "        return 'yes'\n",
    "    else :\n",
    "        return 'no'\n",
    "\n",
    "while True :\n",
    "    w = input()\n",
    "    if w == '.' :\n",
    "        break\n",
    "    \n",
    "    else :\n",
    "        print(checker(w))"
   ]
  },
  {
   "cell_type": "markdown",
   "metadata": {},
   "source": [
    "# 9935"
   ]
  },
  {
   "cell_type": "code",
   "execution_count": 24,
   "metadata": {},
   "outputs": [
    {
     "name": "stdout",
     "output_type": "stream",
     "text": [
      "FRULA\n"
     ]
    }
   ],
   "source": [
    "from collections import deque\n",
    "s = deque()\n",
    "w = input()\n",
    "target = input()\n",
    "for i in w :\n",
    "    s.append(i)\n",
    "    if len(s) >= len(target) : \n",
    "        cnt = 0\n",
    "        for i in range(1, len(target)+1) :\n",
    "            if s[-i] == target[-i] :\n",
    "                cnt += 1\n",
    "            else :\n",
    "                break\n",
    "\n",
    "        if cnt == len(target) :\n",
    "            for i in range(len(target)) :\n",
    "                s.pop()\n",
    "\n",
    "if not len(s) :\n",
    "    print('FRULA')\n",
    "else :\n",
    "    for i in s :\n",
    "        print(i, end = '')"
   ]
  },
  {
   "cell_type": "markdown",
   "metadata": {},
   "source": [
    "# 18258"
   ]
  },
  {
   "cell_type": "code",
   "execution_count": null,
   "metadata": {},
   "outputs": [],
   "source": [
    "from collections import deque\n",
    "class Queue() :\n",
    "    def __init__(self) :\n",
    "        self.queue = deque()\n",
    "    \n",
    "    def push(self, x) :\n",
    "        self.queue.append(x)\n",
    "    \n",
    "    def pop(self) :\n",
    "        if not len(self.queue) :\n",
    "            return -1\n",
    "        return self.queue.popleft()\n",
    "    \n",
    "    def size(self) :\n",
    "        return len(self.queue)\n",
    "    \n",
    "    def empty(self) :\n",
    "        if not self.size() :\n",
    "            return 1\n",
    "        return 0\n",
    "    \n",
    "    def front(self) :\n",
    "        if not len(self.queue) :\n",
    "            return -1\n",
    "        return self.queue[0]\n",
    "    \n",
    "    def back(self) :\n",
    "        if not len(self.queue) :\n",
    "            return -1\n",
    "        return self.queue[-1]\n",
    "    \n",
    "n = int(input())\n",
    "q = Queue()\n",
    "\n",
    "for i in range(n) :\n",
    "    s = input()\n",
    "    if 'push' in s :\n",
    "        n = int(s.split()[-1])\n",
    "        q.push(n)\n",
    "    \n",
    "    elif 'front' in s :\n",
    "        print(q.front())\n",
    "    \n",
    "    elif 'empty' in s :\n",
    "        print(q.empty())\n",
    "    \n",
    "    elif 'back' in s :\n",
    "        print(q.back())\n",
    "    \n",
    "    elif 'size' in s :\n",
    "        print(q.size())\n",
    "    \n",
    "    elif 'pop' in s :\n",
    "        print(q.pop())"
   ]
  },
  {
   "cell_type": "markdown",
   "metadata": {},
   "source": [
    "# 2164"
   ]
  },
  {
   "cell_type": "code",
   "execution_count": 6,
   "metadata": {},
   "outputs": [
    {
     "name": "stdout",
     "output_type": "stream",
     "text": [
      "4\n"
     ]
    }
   ],
   "source": [
    "from collections import deque\n",
    "q = deque()\n",
    "\n",
    "n = int(input())\n",
    "for i in range(1, n+1) :\n",
    "    q.append(i)\n",
    "\n",
    "while len(q) > 1 :\n",
    "    q.popleft()\n",
    "    a = q.popleft()\n",
    "    q.append(a)\n",
    "\n",
    "print(q[0])"
   ]
  },
  {
   "cell_type": "markdown",
   "metadata": {},
   "source": [
    "# 11866"
   ]
  },
  {
   "cell_type": "code",
   "execution_count": 8,
   "metadata": {},
   "outputs": [
    {
     "name": "stdout",
     "output_type": "stream",
     "text": [
      "<3, 6, 2, 7, 5, 1, 4>\n"
     ]
    }
   ],
   "source": [
    "from collections import deque\n",
    "q = deque()\n",
    "result = []\n",
    "n, k = map(int, input().split())\n",
    "for i in range(1, n+1) :\n",
    "    q.append(i)\n",
    "\n",
    "while len(q) > 0 :\n",
    "    for i in range(k-1) :\n",
    "        a = q.popleft()\n",
    "        q.append(a)\n",
    "    result.append(q.popleft())\n",
    "\n",
    "print('<', end = '')\n",
    "for i in result[:-1:] :\n",
    "    print(i, end = ', ')\n",
    "print(result[-1], end = '')\n",
    "print('>')\n"
   ]
  },
  {
   "cell_type": "markdown",
   "metadata": {},
   "source": [
    "# 1676"
   ]
  },
  {
   "cell_type": "code",
   "execution_count": 2,
   "metadata": {},
   "outputs": [
    {
     "name": "stdout",
     "output_type": "stream",
     "text": [
      "0\n"
     ]
    }
   ],
   "source": [
    "n = int(input())\n",
    "ans = 0\n",
    "d = 5\n",
    "while n >= d :\n",
    "    ans += n//d\n",
    "    d *= 5\n",
    "print(ans)\n"
   ]
  },
  {
   "cell_type": "markdown",
   "metadata": {},
   "source": [
    "# 11478"
   ]
  },
  {
   "cell_type": "code",
   "execution_count": 7,
   "metadata": {},
   "outputs": [
    {
     "name": "stdout",
     "output_type": "stream",
     "text": [
      "12\n"
     ]
    }
   ],
   "source": [
    "s = input()\n",
    "ans = set()\n",
    "for i in range(len(s)+1) :\n",
    "    for j in range(i) :\n",
    "        ans.add(s[j:i])\n",
    "print(len(ans))"
   ]
  },
  {
   "cell_type": "markdown",
   "metadata": {},
   "source": [
    "# 7785"
   ]
  },
  {
   "cell_type": "code",
   "execution_count": 1,
   "metadata": {},
   "outputs": [
    {
     "name": "stdout",
     "output_type": "stream",
     "text": [
      "Askar\n",
      "Artem\n"
     ]
    }
   ],
   "source": [
    "n = int(input())\n",
    "d = {}\n",
    "for i in range(n) :\n",
    "    n, m = input().split()\n",
    "    if m == 'enter' :\n",
    "        d[n] = 1\n",
    "    \n",
    "    else :\n",
    "        d[n] = 0\n",
    "\n",
    "ans = []\n",
    "for i in d :\n",
    "    if d[i] == 1 :\n",
    "        ans.append(i)\n",
    "ans.sort(reverse= True)\n",
    "for i in ans :\n",
    "    print(i)"
   ]
  },
  {
   "cell_type": "markdown",
   "metadata": {},
   "source": [
    "# 2161"
   ]
  },
  {
   "cell_type": "code",
   "execution_count": 4,
   "metadata": {},
   "outputs": [
    {
     "name": "stdout",
     "output_type": "stream",
     "text": [
      "1 3 5 7 4 2 6 "
     ]
    }
   ],
   "source": [
    "from collections import deque\n",
    "n = int(input())\n",
    "q = deque()\n",
    "for i in range(1, n+1) :\n",
    "    q.append(i)\n",
    "ans = []\n",
    "while len(q) > 1 :\n",
    "    ans.append(q.popleft())\n",
    "    t = q.popleft()\n",
    "    q.append(t)\n",
    "ans.append(q.pop())\n",
    "for i in ans :\n",
    "    print(i, end = ' ')"
   ]
  },
  {
   "cell_type": "markdown",
   "metadata": {},
   "source": [
    "# 4158"
   ]
  },
  {
   "cell_type": "code",
   "execution_count": 16,
   "metadata": {},
   "outputs": [
    {
     "name": "stdout",
     "output_type": "stream",
     "text": [
      "2\n"
     ]
    }
   ],
   "source": [
    "from collections import defaultdict\n",
    "\n",
    "while True:\n",
    "    d = defaultdict(bool)\n",
    "    n, m = map(int, input().split())\n",
    "    ans = 0\n",
    "    if n == 0 and m == 0:\n",
    "        break\n",
    "    for _ in range(n):\n",
    "        d[int(input())] = True\n",
    "    for _ in range(m):\n",
    "        if d[int(input())]:\n",
    "            ans += 1\n",
    "\n",
    "    print(ans)"
   ]
  },
  {
   "cell_type": "markdown",
   "metadata": {},
   "source": [
    "# 1920"
   ]
  },
  {
   "cell_type": "code",
   "execution_count": 1,
   "metadata": {},
   "outputs": [
    {
     "name": "stdout",
     "output_type": "stream",
     "text": [
      "1\n",
      "1\n",
      "0\n",
      "0\n",
      "1\n"
     ]
    }
   ],
   "source": [
    "from collections import defaultdict\n",
    "n = int(input())\n",
    "nl = list(map(int, input().split()))\n",
    "d = defaultdict(bool)\n",
    "for i in nl :\n",
    "    d[i] = True\n",
    "\n",
    "m = int(input())\n",
    "ml = list(map(int, input().split()))\n",
    "for i in ml :\n",
    "    if d[i] == True :\n",
    "        print(1)\n",
    "    else :\n",
    "        print(0)"
   ]
  },
  {
   "cell_type": "markdown",
   "metadata": {},
   "source": [
    "# 10845"
   ]
  },
  {
   "cell_type": "code",
   "execution_count": 3,
   "metadata": {},
   "outputs": [
    {
     "name": "stdout",
     "output_type": "stream",
     "text": [
      "2\n",
      "1\n",
      "0\n"
     ]
    }
   ],
   "source": [
    "from collections import deque\n",
    "\n",
    "class Queue() :\n",
    "    def __init__(self) :\n",
    "        self.queue = deque()\n",
    "    \n",
    "    def push(self, x) :\n",
    "        self.queue.append(x)\n",
    "    \n",
    "    def size(self) :\n",
    "        return len(self.queue)\n",
    "    \n",
    "    def pop(self) :\n",
    "        if not self.size() :\n",
    "            return -1\n",
    "        \n",
    "        else :\n",
    "            return self.queue.popleft()\n",
    "    \n",
    "    def empty(self) :\n",
    "        if not self.size() :\n",
    "            return 1\n",
    "        return 0\n",
    "    \n",
    "    def front(self) :\n",
    "        if self.empty() :\n",
    "            return -1\n",
    "        return self.queue[0]\n",
    "    \n",
    "    def back(self) :\n",
    "        if self.empty() :\n",
    "            return -1\n",
    "        return self.queue[-1]\n",
    "        \n",
    "q = Queue()\n",
    "n = int(input())\n",
    "for i in range(n) :\n",
    "    p = input()\n",
    "    if 'push' in p :\n",
    "        p, n = p.split()\n",
    "        q.push(int(n))\n",
    "    else :\n",
    "        if p == 'front' :\n",
    "            print(q.front())\n",
    "        elif p == 'back' :\n",
    "            print(q.back())\n",
    "        elif p == 'empty' :\n",
    "            print(q.empty())\n",
    "        elif p == 'size' :\n",
    "            print(q.size())\n",
    "        elif p == 'pop' :\n",
    "            print(q.pop())"
   ]
  },
  {
   "cell_type": "markdown",
   "metadata": {},
   "source": [
    "# 1158"
   ]
  },
  {
   "cell_type": "code",
   "execution_count": 6,
   "metadata": {},
   "outputs": [
    {
     "name": "stdout",
     "output_type": "stream",
     "text": [
      "[3, 6, 2, 7, 5, 1, 4]\n",
      "<3, 6, 2, 7, 5, 1, 4>"
     ]
    }
   ],
   "source": [
    "from collections import deque\n",
    "q = deque()\n",
    "ans = []\n",
    "n, t = map(int, input().split())\n",
    "for i in range(1, n+1) :\n",
    "    q.append(i)\n",
    "\n",
    "while len(q) >= 1 :\n",
    "    for i in range(t-1) :\n",
    "        q.append(q.popleft())\n",
    "    ans.append(q.popleft())\n",
    "\n",
    "print('<', end = '')\n",
    "for i in ans[:-1:] :\n",
    "    print(i, end = ', ')\n",
    "print(ans[-1], end = '>')"
   ]
  },
  {
   "cell_type": "markdown",
   "metadata": {},
   "source": [
    "# 10866"
   ]
  },
  {
   "cell_type": "code",
   "execution_count": 1,
   "metadata": {},
   "outputs": [
    {
     "name": "stdout",
     "output_type": "stream",
     "text": [
      "2\n"
     ]
    }
   ],
   "source": [
    "from collections import deque\n",
    "\n",
    "class Deque() :\n",
    "    def __init__(self) :\n",
    "        self.deque = deque()\n",
    "    \n",
    "    def push_front(self, x) :\n",
    "        self.deque.appendleft(x)\n",
    "\n",
    "    def push_back(self, x) :\n",
    "        self.deque.append(x)\n",
    "    \n",
    "    def pop_front(self) :\n",
    "        if self.deque.empty() :\n",
    "            return -1\n",
    "        return self.deque.popleft()\n",
    "    \n",
    "    def pop_back(self) :\n",
    "        if self.deque.empty() :\n",
    "            return -1\n",
    "        return self.deque.pop()\n",
    "    \n",
    "    def size(self) :\n",
    "        return len(self.deque)\n",
    "    \n",
    "    def empty(self) :\n",
    "        if not self.deque.size() :\n",
    "            return 1\n",
    "        return 0\n",
    "    \n",
    "    def front(self) :\n",
    "        if self.deque.empty() :\n",
    "            return -1\n",
    "        return self.deque[0]\n",
    "    \n",
    "    def back(self) :\n",
    "        if self.deque.empty() :\n",
    "            return -1\n",
    "        return self.deque[-1]\n",
    "\n",
    "n = int(input())\n",
    "d = Deque()\n",
    "\n",
    "for i in range(n) :\n",
    "    s = input()\n",
    "    if 'push' in s :\n",
    "        m, x = s.split()\n",
    "        if 'back' in s :\n",
    "            d.push_back(int(x))\n",
    "        else :\n",
    "            d.push_front(int(x))\n",
    "    \n",
    "    elif 'pop_front' in s :\n",
    "        print(d.pop_front())\n",
    "    \n",
    "    elif 'pop_back' in s :\n",
    "        print(d.pop_back())\n",
    "    \n",
    "    elif 'size' in s :\n",
    "        print(d.size())\n",
    "    \n",
    "    elif 'empty' in s :\n",
    "        print(d.empty())\n",
    "    \n",
    "    elif 'front' in s :\n",
    "        print(d.front())\n",
    "    \n",
    "    else :\n",
    "        print(d.back())"
   ]
  },
  {
   "cell_type": "markdown",
   "metadata": {},
   "source": [
    "# 10816"
   ]
  },
  {
   "cell_type": "code",
   "execution_count": 2,
   "metadata": {},
   "outputs": [
    {
     "name": "stdout",
     "output_type": "stream",
     "text": [
      "3 0 0 1 2 0 0 2 "
     ]
    }
   ],
   "source": [
    "from collections import defaultdict\n",
    "d = defaultdict(int)\n",
    "n = int(input())\n",
    "l = list(map(int, input().split()))\n",
    "for i in l :\n",
    "    d[i] += 1\n",
    "\n",
    "m = int(input())\n",
    "k = list(map(int, input().split()))\n",
    "for i in k :\n",
    "    print(d[i], end = ' ')\n"
   ]
  },
  {
   "cell_type": "markdown",
   "metadata": {},
   "source": [
    "# 1764"
   ]
  },
  {
   "cell_type": "code",
   "execution_count": 8,
   "metadata": {},
   "outputs": [
    {
     "name": "stdout",
     "output_type": "stream",
     "text": [
      "2\n",
      "baesangwook\n",
      "ohhenrie\n"
     ]
    }
   ],
   "source": [
    "n, m = map(int, input().split())\n",
    "s1 = set()\n",
    "s2 = set()\n",
    "for i in range(n) :\n",
    "    s1.add(input())\n",
    "\n",
    "for j in range(m) :\n",
    "    s2.add(input())\n",
    "\n",
    "ans = s1 & s2\n",
    "ans = sorted(ans)\n",
    "print(len(ans))\n",
    "for i in ans :\n",
    "    print(i)"
   ]
  },
  {
   "cell_type": "markdown",
   "metadata": {},
   "source": [
    "# 1269"
   ]
  },
  {
   "cell_type": "code",
   "execution_count": 2,
   "metadata": {},
   "outputs": [
    {
     "name": "stdout",
     "output_type": "stream",
     "text": [
      "4\n"
     ]
    }
   ],
   "source": [
    "n, m = map(int, input().split())\n",
    "s1 = set(map(int, input().split()))\n",
    "s2 = set(map(int, input().split()))\n",
    "\n",
    "print(len((s1 - s2) | (s2 - s1)))"
   ]
  },
  {
   "cell_type": "markdown",
   "metadata": {},
   "source": [
    "# 11659"
   ]
  },
  {
   "cell_type": "code",
   "execution_count": 9,
   "metadata": {},
   "outputs": [
    {
     "name": "stdout",
     "output_type": "stream",
     "text": [
      "12\n",
      "9\n",
      "1\n"
     ]
    }
   ],
   "source": [
    "n, m = map(int, input().split())\n",
    "lst = list(map(int, input().split()))\n",
    "lst.insert(0, 0)\n",
    "hap = [0]\n",
    "for i in range(1, len(lst)) :\n",
    "    hap.append(hap[i-1] + lst[i])\n",
    "\n",
    "for i in range(m) :\n",
    "    s, l = map(int, input().split())\n",
    "\n",
    "    print(hap[l] - hap[s-1])"
   ]
  },
  {
   "cell_type": "markdown",
   "metadata": {},
   "source": [
    "# 1302"
   ]
  },
  {
   "cell_type": "code",
   "execution_count": 7,
   "metadata": {},
   "outputs": [
    {
     "name": "stdout",
     "output_type": "stream",
     "text": [
      "a\n"
     ]
    }
   ],
   "source": [
    "from collections import defaultdict\n",
    "d = defaultdict(int)\n",
    "\n",
    "n = int(input())\n",
    "for i in range(n) :\n",
    "    book = input()\n",
    "    d[book] += 1\n",
    "\n",
    "target = max(d.values())\n",
    "ans = []\n",
    "for i in d :\n",
    "    if d[i] == target :\n",
    "        ans.append(i)\n",
    "\n",
    "ans = sorted(ans)\n",
    "print(ans[0])"
   ]
  },
  {
   "cell_type": "markdown",
   "metadata": {},
   "source": [
    "# 2467"
   ]
  },
  {
   "cell_type": "code",
   "execution_count": null,
   "metadata": {},
   "outputs": [],
   "source": []
  },
  {
   "cell_type": "markdown",
   "metadata": {},
   "source": [
    "# 14786"
   ]
  },
  {
   "cell_type": "code",
   "execution_count": null,
   "metadata": {},
   "outputs": [],
   "source": []
  }
 ],
 "metadata": {
  "kernelspec": {
   "display_name": "Python 3.10.1 64-bit",
   "language": "python",
   "name": "python3"
  },
  "language_info": {
   "codemirror_mode": {
    "name": "ipython",
    "version": 3
   },
   "file_extension": ".py",
   "mimetype": "text/x-python",
   "name": "python",
   "nbconvert_exporter": "python",
   "pygments_lexer": "ipython3",
   "version": "3.10.1"
  },
  "orig_nbformat": 4,
  "vscode": {
   "interpreter": {
    "hash": "aee8b7b246df8f9039afb4144a1f6fd8d2ca17a180786b69acc140d282b71a49"
   }
  }
 },
 "nbformat": 4,
 "nbformat_minor": 2
}
