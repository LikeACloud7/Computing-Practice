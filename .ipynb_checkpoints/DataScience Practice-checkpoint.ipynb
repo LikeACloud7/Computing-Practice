{
 "cells": [
  {
   "cell_type": "code",
   "execution_count": 4,
   "id": "1635c54a",
   "metadata": {},
   "outputs": [
    {
     "name": "stdout",
     "output_type": "stream",
     "text": [
      "Hello jupyter notebook!\n"
     ]
    }
   ],
   "source": [
    "print('Hello jupyter notebook!')"
   ]
  },
  {
   "cell_type": "code",
   "execution_count": 5,
   "id": "5788279b",
   "metadata": {},
   "outputs": [
    {
     "name": "stdout",
     "output_type": "stream",
     "text": [
      "Reinitialized existing Git repository in /Users/bagsejun/Desktop/computing practice/.git/\r\n"
     ]
    }
   ],
   "source": [
    "!git init"
   ]
  },
  {
   "cell_type": "code",
   "execution_count": 7,
   "id": "f55ca4b7",
   "metadata": {},
   "outputs": [],
   "source": [
    "!git add ."
   ]
  },
  {
   "cell_type": "code",
   "execution_count": 8,
   "id": "05c65bd8",
   "metadata": {},
   "outputs": [
    {
     "name": "stdout",
     "output_type": "stream",
     "text": [
      "On branch master\r\n",
      "\r\n",
      "No commits yet\r\n",
      "\r\n",
      "Changes to be committed:\r\n",
      "  (use \"git rm --cached <file>...\" to unstage)\r\n",
      "\t\u001b[32mnew file:   .ipynb_checkpoints/DataScience Practice-checkpoint.ipynb\u001b[m\r\n",
      "\t\u001b[32mnew file:   DataScience Practice.ipynb\u001b[m\r\n",
      "\r\n"
     ]
    }
   ],
   "source": [
    "!git status"
   ]
  },
  {
   "cell_type": "code",
   "execution_count": 9,
   "id": "c8945768",
   "metadata": {},
   "outputs": [
    {
     "name": "stdout",
     "output_type": "stream",
     "text": [
      "[master (root-commit) e6a4a55] first commit\r\n",
      " Committer: oraelonge@gmail.com <bagsejun@bagsejun-ui-MacBookPro.local>\r\n",
      "Your name and email address were configured automatically based\r\n",
      "on your username and hostname. Please check that they are accurate.\r\n",
      "You can suppress this message by setting them explicitly:\r\n",
      "\r\n",
      "    git config --global user.name \"Your Name\"\r\n",
      "    git config --global user.email you@example.com\r\n",
      "\r\n",
      "After doing this, you may fix the identity used for this commit with:\r\n",
      "\r\n",
      "    git commit --amend --reset-author\r\n",
      "\r\n",
      " 2 files changed, 39 insertions(+)\r\n",
      " create mode 100644 .ipynb_checkpoints/DataScience Practice-checkpoint.ipynb\r\n",
      " create mode 100644 DataScience Practice.ipynb\r\n"
     ]
    }
   ],
   "source": [
    "!git commit -m 'first commit'"
   ]
  },
  {
   "cell_type": "code",
   "execution_count": 10,
   "id": "65eac948",
   "metadata": {},
   "outputs": [],
   "source": [
    "!git remote add origin git@github.com:LikeACloud7/Computing-Practice.git"
   ]
  },
  {
   "cell_type": "code",
   "execution_count": 11,
   "id": "ef14a8fe",
   "metadata": {},
   "outputs": [
    {
     "name": "stdout",
     "output_type": "stream",
     "text": [
      "origin\tgit@github.com:LikeACloud7/Computing-Practice.git (fetch)\r\n",
      "origin\tgit@github.com:LikeACloud7/Computing-Practice.git (push)\r\n"
     ]
    }
   ],
   "source": [
    "!git remote -v"
   ]
  },
  {
   "cell_type": "code",
   "execution_count": null,
   "id": "487f240c",
   "metadata": {},
   "outputs": [
    {
     "name": "stdout",
     "output_type": "stream",
     "text": [
      "\r",
      "The authenticity of host 'github.com (20.200.245.247)' can't be established.\r\n",
      "ED25519 key fingerprint is SHA256:+DiY3wvvV6TuJJhbpZisF/zLDA0zPMSvHdkr4UvCOqU.\r\n",
      "This key is not known by any other names\r\n",
      "Are you sure you want to continue connecting (yes/no/[fingerprint])? "
     ]
    }
   ],
   "source": [
    "!git push origin master"
   ]
  },
  {
   "cell_type": "code",
   "execution_count": null,
   "id": "1dd861a4",
   "metadata": {},
   "outputs": [],
   "source": []
  }
 ],
 "metadata": {
  "kernelspec": {
   "display_name": "Python 3 (ipykernel)",
   "language": "python",
   "name": "python3"
  },
  "language_info": {
   "codemirror_mode": {
    "name": "ipython",
    "version": 3
   },
   "file_extension": ".py",
   "mimetype": "text/x-python",
   "name": "python",
   "nbconvert_exporter": "python",
   "pygments_lexer": "ipython3",
   "version": "3.10.1"
  }
 },
 "nbformat": 4,
 "nbformat_minor": 5
}
